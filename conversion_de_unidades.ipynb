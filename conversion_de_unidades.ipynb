{
  "nbformat": 4,
  "nbformat_minor": 0,
  "metadata": {
    "colab": {
      "provenance": [],
      "authorship_tag": "ABX9TyO+XqKV5hE+xLv5iHDfvZWC",
      "include_colab_link": true
    },
    "kernelspec": {
      "name": "python3",
      "display_name": "Python 3"
    },
    "language_info": {
      "name": "python"
    }
  },
  "cells": [
    {
      "cell_type": "markdown",
      "metadata": {
        "id": "view-in-github",
        "colab_type": "text"
      },
      "source": [
        "<a href=\"https://colab.research.google.com/github/vi0908/MC/blob/main/conversion_de_unidades.ipynb\" target=\"_parent\"><img src=\"https://colab.research.google.com/assets/colab-badge.svg\" alt=\"Open In Colab\"/></a>"
      ]
    },
    {
      "cell_type": "code",
      "source": [
        "# PARÁMETROS\n",
        "año = 365.2564 # en d\n",
        "ua = 149597870.7 # en km\n",
        "d = 86400 # en s\n",
        "MS = 1.989e30 # en kg\n",
        "RT = 6378.14 # en km\n",
        "MT = 5.9742e24 # en kg"
      ],
      "metadata": {
        "id": "o3JgTy31nHad"
      },
      "execution_count": null,
      "outputs": []
    },
    {
      "cell_type": "code",
      "execution_count": null,
      "metadata": {
        "colab": {
          "base_uri": "https://localhost:8080/"
        },
        "id": "QPi7nhIJeDLG",
        "outputId": "1ab2f8fa-e6c1-4384-9d28-c478a244a38b"
      },
      "outputs": [
        {
          "output_type": "stream",
          "name": "stdout",
          "text": [
            "--> Velocidad en u.a / d: v = 0.011937923926613752\n"
          ]
        }
      ],
      "source": [
        "# DE km / s A u.a / d\n",
        "\n",
        "vkms = 20.67\n",
        "vuad =  vkms * (86400 / 149597870.7)\n",
        "\n",
        "print('--> Velocidad en u.a / d: v = {}'.format(vuad))"
      ]
    }
  ]
}