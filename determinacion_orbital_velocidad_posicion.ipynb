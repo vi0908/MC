{
  "nbformat": 4,
  "nbformat_minor": 0,
  "metadata": {
    "colab": {
      "provenance": [],
      "authorship_tag": "ABX9TyMwwS2XkdXkueIp+MImY9GL",
      "include_colab_link": true
    },
    "kernelspec": {
      "name": "python3",
      "display_name": "Python 3"
    },
    "language_info": {
      "name": "python"
    }
  },
  "cells": [
    {
      "cell_type": "markdown",
      "metadata": {
        "id": "view-in-github",
        "colab_type": "text"
      },
      "source": [
        "<a href=\"https://colab.research.google.com/github/vi0908/MC/blob/main/determinacion_orbital_velocidad_posicion.ipynb\" target=\"_parent\"><img src=\"https://colab.research.google.com/assets/colab-badge.svg\" alt=\"Open In Colab\"/></a>"
      ]
    },
    {
      "cell_type": "code",
      "source": [
        "import math\n",
        "import datetime"
      ],
      "metadata": {
        "id": "12gdHUw1x7C7"
      },
      "execution_count": null,
      "outputs": []
    },
    {
      "cell_type": "code",
      "source": [
        "t_x =  # FECHA JULIANA DEL TIEMPO DE REFERRENCIA"
      ],
      "metadata": {
        "id": "_BiTGMZ_JcrI"
      },
      "execution_count": null,
      "outputs": []
    },
    {
      "cell_type": "code",
      "source": [
        "# FUNCIÓN PARA LA FECHA JULIANA\n",
        "def fecha_juliana(fecha):\n",
        "    year = fecha.year\n",
        "    month = fecha.month\n",
        "    day = fecha.day\n",
        "    hora = fecha.hour\n",
        "    minuto = fecha.minute\n",
        "    segundo = fecha.second\n",
        "\n",
        "    a = int((14 - month) / 12)\n",
        "    y = year + 4800 - a\n",
        "    m = month + 12 * a - 3\n",
        "\n",
        "    # Calcula la fecha Juliana\n",
        "    jdn = day + int((153 * m + 2) / 5) + 365 * y + int(y / 4) - int(y / 100) + int(y / 400) - 32045\n",
        "\n",
        "    # Agrega la fracción del día\n",
        "    fraccion = (hora - 12) / 24 + minuto / 1440 + segundo / 86400\n",
        "    jd = jdn + fraccion\n",
        "\n",
        "    return jd\n",
        "\n",
        "\n",
        "\"\"\" t_x \"\"\"\n",
        "tiene_fecha_juliana_epoca = input(\"\\n¿Tiene la fecha juliana de t_x? (s/n): \")\n",
        "\n",
        "if tiene_fecha_juliana_epoca == \"s\":\n",
        "    # Si tiene la fecha juliana, epoca\n",
        "    print('\\n* t_x = {}'.format(t_x))\n",
        "\n",
        "else:\n",
        "    # Si no tiene la fecha juliana, pedirle los datos necesarios\n",
        "    año_r = int(input(\"\\naño de referencia = \"))\n",
        "    mes_r = int(input(\"\\nmes de referencia = \"))\n",
        "    dia_r = int(input(\"\\ndía de referencia = \"))\n",
        "    hora_r = int(input(\"\\nhora de referencia = \"))\n",
        "    minuto_r = int(input(\"\\nminuto de referencia = \"))\n",
        "    segundo_r = int(input(\"\\nsegundo de referencia = \"))\n",
        "    fecha_epoca = datetime.datetime(año_r, mes_r, dia_r, hora_r, minuto_r, segundo_r)\n",
        "    t_x = fecha_juliana(fecha_epoca)\n",
        "    print('\\n* t_x = {}'.format(t_x))"
      ],
      "metadata": {
        "colab": {
          "base_uri": "https://localhost:8080/"
        },
        "id": "Y2AO2XIuJjKM",
        "outputId": "ba37e300-497d-4326-e207-fea50d83a0c1"
      },
      "execution_count": null,
      "outputs": [
        {
          "output_type": "stream",
          "name": "stdout",
          "text": [
            "\n",
            "¿Tiene la fecha juliana de t_x? (s/n): 2009\n",
            "\n",
            "año de referencia = 2009\n",
            "\n",
            "mes de referencia = 1\n",
            "\n",
            "día de referencia = 9\n",
            "\n",
            "hora de referencia = 0\n",
            "\n",
            "minuto de referencia = 0\n",
            "\n",
            "segundo de referencia = 0\n",
            "\n",
            "* t_x = 2454840.5\n"
          ]
        }
      ]
    },
    {
      "cell_type": "markdown",
      "source": [
        "# **Cálculo de los elementos a partir de los vectores posición $\\vec{r}$ y velocidad $\\dot{\\vec{r}}$**\n",
        "\n",
        "Este caso se presenta cuando es posible conocer de algún modo, en un instante\n",
        "dado, las componentes tanto del vector posición como del vector velocidad respecto a un origen de coordenadas y un plano fundamental determinado.\n",
        "\n",
        "Es claro que dichos vectores deben de estar referidos a aquel\n",
        "sistema de coordenadas en el que se desee referir los elementos. Es recomendable realizar la rotación de coordenadas al plano de la Eclíptica."
      ],
      "metadata": {
        "id": "1Pl8I7VaNy-w"
      }
    },
    {
      "cell_type": "code",
      "execution_count": null,
      "metadata": {
        "id": "EO-ZJzJQNsuI"
      },
      "outputs": [],
      "source": [
        "# VECTORES DE POSICIÓN Y VELOCIDAD PARA UN TIEMPO t (EN COORDENADAS CARTESIANAS HELIOCÉNTRICAS ECLÍPTICAS)\n",
        "\n",
        "x = -1.03244991 #4.05649 #\n",
        "y = 2.36352624   # -31.837381448489612 #\n",
        "z = 0.26487849  # 2.2344708398117987# #\n",
        "\n",
        "x_punto = -0.00968498 # # 0.003168275##0.003168275\n",
        "y_punto = -0.00498515 ## -0.00021978240721003147 #\n",
        "z_punto = 0.00162665 ##-0.0008936878242059493 #"
      ]
    },
    {
      "cell_type": "markdown",
      "source": [
        "Se comienza por encontrar las magnitudes del radio vector y del vector velocidad:\n",
        "\n",
        "\n",
        "\n",
        "> $$r = \\sqrt{x^2+y^2+z^2} \\  \\  \\  \\  \\  \\   v = \\sqrt{\\dot{x}^2 + \\dot{y}^2 + \\dot{z}^2} $$\n",
        "\n"
      ],
      "metadata": {
        "id": "RkkAWDGFxAm3"
      }
    },
    {
      "cell_type": "code",
      "source": [
        "# CÁLCULO DE LAS MAGNITUDES DEL RADIO VECTOR Y DEL VECTOR VELOCIDAD\n",
        "\n",
        "r = math.sqrt(x**2 + y**2 + z**2)\n",
        "v = math.sqrt(x_punto**2 + y_punto**2 + z_punto**2)\n",
        "\n",
        "print('---> r = {} u.a \\n\\n---> v = {} u.a/d'.format(r, v))\n"
      ],
      "metadata": {
        "colab": {
          "base_uri": "https://localhost:8080/"
        },
        "id": "CDK18FmaxtjQ",
        "outputId": "b9716955-f603-4b68-e3d2-a20497e70509"
      },
      "execution_count": null,
      "outputs": [
        {
          "output_type": "stream",
          "name": "stdout",
          "text": [
            "---> r = 2.5927533084140935 u.a \n",
            "\n",
            "---> v = 0.011013471221436045 u.a/d\n"
          ]
        }
      ]
    },
    {
      "cell_type": "markdown",
      "source": [
        "Luego, se calculan las componentes del vector momento angular por unidad de masa.\n",
        "\n",
        "Teniendo en cuenta que:\n",
        "\n",
        "> $$\\vec{h} = \\vec{r} \\times \\dot{\\vec{r}}$$\n",
        "\n",
        "\n",
        "\n",
        "> $$h_1 = y\\dot{z}-z\\dot{y}$$\n",
        "> $$h_2 = z\\dot{x}-x\\dot{z}$$\n",
        "> $$h_3 = x\\dot{y}-y\\dot{x}$$\n",
        "\n",
        "Si $h = h_1 = h_2 = h_3 = 0$, el objeto se encuentra en una trayectoria rectilínea. Por el contrario, si $h\\not=0$, el objeto se desplaza a través de una trayectoria cónica."
      ],
      "metadata": {
        "id": "2ktF9HHAyhaB"
      }
    },
    {
      "cell_type": "code",
      "source": [
        "# CÁLCULO DE LAS COMPONENTES DEL VECTOR MOMENTO ANGULAR POR UNIDAD DE MASA\n",
        "\n",
        "h1 = y * z_punto - z * y_punto\n",
        "h2 = z * x_punto - x * z_punto\n",
        "h3 = x * y_punto - y * x_punto\n",
        "h = math.sqrt(h1**2 + h2**2 + h3**2)\n",
        "\n",
        "print('---> h1 = {} u.a^2/d \\n\\n---> h2 = {} u.a^2/d \\n\\n---> h3 = {} u.a^2/d \\n\\n---> h = {} u.a^2/d'.format(h1, h2, h3, h))"
      ],
      "metadata": {
        "colab": {
          "base_uri": "https://localhost:8080/"
        },
        "id": "mFlPbXSCx5ak",
        "outputId": "0aa1e282-07ba-483e-fa4d-a507a415a0b7"
      },
      "execution_count": null,
      "outputs": [
        {
          "output_type": "stream",
          "name": "stdout",
          "text": [
            "---> h1 = 0.0051650889627195004 u.a^2/d \n",
            "\n",
            "---> h2 = -0.0008859082319787001 u.a^2/d \n",
            "\n",
            "---> h3 = 0.0280376220327117 u.a^2/d \n",
            "\n",
            "---> h = 0.028523169996294152 u.a^2/d\n"
          ]
        }
      ]
    },
    {
      "cell_type": "markdown",
      "source": [
        "Los valores de $r$ y $v$ permiten de entrada conocer el tipo de trayectoria cónica que describe el objeto. Tenemos que las ecuaciones de rapidez para cada cónica son:\n",
        "\n",
        "\n",
        "***ELIPSE:***\n",
        "> $$v = \\sqrt{\\mu\\left(\\frac{2}{r}-\\frac{1}{a}\\right)}$$\n",
        "\n",
        "\n",
        "***PARÁBOLA:***\n",
        "> $$v = \\sqrt{\\mu\\left(\\frac{2}{r}\\right)}$$\n",
        "\n",
        "\n",
        "***ELIPSE:***\n",
        "> $$v = \\sqrt{\\mu\\left(\\frac{2}{r}+\\frac{1}{a}\\right)}$$\n",
        "\n",
        "Estas ecuaciones se pueden representar conjuntamente por:\n",
        "\n",
        "\n",
        "\n",
        "> $$v = \\sqrt{\\mu\\left(\\frac{2}{r}\\pm\\frac{1}{A}\\right)}$$\n",
        "\n",
        "\n",
        "Con $\\mu = G(m_1 + m_2)$ y el signo negativo con $A=a$ corresponde a la órbita elíptica; el signo positivo con $A=a$ corresponde a la órbita hiperbólica y $A = \\infty \\ (1/A=0)$ si la órbita es una parábola.\n",
        "\n",
        "Despejando el semiejer mayor $a$ de la expresión correspondiente a la órbita elíptica:\n",
        "\n",
        "\n",
        "> $$\\frac{1}{A} = \\frac{1}{a} = \\frac{2}{r}-\\frac{v^2}{\\mu} $$\n",
        "\n",
        "Al reordenar y escribir convenientemente:\n",
        "\n",
        "SEMIEJE MAYOR PARA ÓRBITAS ELÍPTICAS O HIPERBÓLICAS\n",
        "> $$A = a = \\frac{r}{2-Q}$$\n",
        "\n",
        "\n",
        "\n",
        "Donde:\n",
        "\n",
        "> $$Q = \\frac{rv^2}{\\mu}$$\n",
        "\n",
        " Permite definir el tipo de trayectoria que sigue el objeto:\n",
        "\n",
        "\n",
        "> Si $Q < 2 \\rightarrow a > 0$ esto es, $\\ 2\\mu>rv^2 \\ \\rightarrow \\ $ ÓRBITA ELÍPTICA\n",
        "\n",
        "> Si $Q > 2 \\rightarrow a < 0$ esto es, $\\ 2\\mu < rv^2 \\ \\rightarrow \\ $ ÓRBITA HIPERBÓLICA\n",
        "\n",
        "> Si $Q = 2 \\rightarrow a = \\infty$ esto es, $\\ 2\\mu>rv^2 \\ \\rightarrow \\ $ ÓRBITA PARABÓLICA\n",
        "\n",
        "Si $Q=1$, $r=a$, es decir, LA ÓRBITA ES CIRCULAR.\n",
        "\n"
      ],
      "metadata": {
        "id": "pk9bV77p0Y-c"
      }
    },
    {
      "cell_type": "code",
      "source": [
        "# DEFINICIÓN DEL TIPO DE ÓRBITA, CÁLCULO DEL SEMIEJE MAYOR PARA ÓRBITAS ELÍPTICAS O HIPERBÓLICAS\n",
        "\n",
        "# Cálculo de mu\n",
        "orbita_sol = input('¿El cuerpo se encuentra orbitando al Sol? (s/n): ')\n",
        "\n",
        "if orbita_sol == 's':\n",
        "\n",
        "  masa_despreciable = input('\\n\\n¿Puede considerarse de masa despreciable? (s/n): ')\n",
        "  if masa_despreciable == 's':\n",
        "    #mu = K^2, K = sqrt(Gm1)\n",
        "    mu = 0.01720209908**2 # (u.a ^(3/2) · d (-1))^2\n",
        "  else:\n",
        "\n",
        "    proporcion = input('\\n\\n¿Tiene m2/m1? (s/n): ')\n",
        "\n",
        "    if proporcion == 's':\n",
        "      m2_m1= float(input('\\n\\nIngrese m2/m1: '))\n",
        "      mu = (0.01720209908**2) * (1 + m2_m1)\n",
        "\n",
        "    else:\n",
        "      proporcion2 =  input('\\n\\n¿Tiene m1/m2? (s/n): ')\n",
        "      if proporcion2 == 's':\n",
        "        m1_m2 = float(input('\\n\\nIngrese m1/m2: '))\n",
        "        m2_m1 = 1 / m1_m2\n",
        "        mu = (0.01720209908**2) * (1 + m2_m1)\n",
        "      else:\n",
        "        m2 = float(input('\\n\\n Ingrese m2: '))\n",
        "        mu = (6.67e-11 * (86400**2) / (149597870.7e3)**3) * (1.989691786e30 + m2)\n",
        "\n",
        "else:\n",
        "\n",
        "  m1 = float(input('\\n\\nIngrese m1 (kg): '))\n",
        "  m2 = float(input('\\n\\nIngrese m2 (kg): '))\n",
        "  mu = (6.67e-11 * (86400**2) / (149597870.7e3)**3) * (m1+ m2)\n",
        "\n",
        "print('\\n\\n---> mu = {} u.a^3·d^-2'.format(mu))\n",
        "\n",
        "Q = (r * v**2) / mu\n",
        "print('\\n\\n---> Q = {}'.format(Q))\n",
        "\n",
        "prueba = abs(2 - Q)\n",
        "print('---> |2 - Q| = {}'.format(prueba))\n",
        "if round(prueba,3) == 1:\n",
        "  trayectoria = 'CIRCULAR'\n",
        "\n",
        "elif round(prueba,3) == 0:\n",
        "  trayectoria = 'PARABÓLICA'\n",
        "\n",
        "else:\n",
        "\n",
        "  if round(Q,3) > 2:\n",
        "    trayectoria = 'HIPERBÓLICA'\n",
        "\n",
        "  else:\n",
        "    trayectoria = 'ELÍPTICA'\n",
        "\n",
        "\n",
        "print('\\n\\n---> Tipo de órbita: {}'.format(trayectoria))\n",
        "\n",
        "if round(Q,3) != 2:\n",
        "  a = r / (2 - Q)\n",
        "  print('\\n\\n---> Semieje Mayor: a = {} u.a'.format(a))\n",
        "\n",
        "# SI LA TRAYECTORIA ES PARABÓLICA. q PUEDE HALLARSE A PARTIR DE LA MAGNITUD DEL MOMENTO ANGULAR POR UNIDAD DE MASA\n",
        "else:\n",
        "  q = (h**2) / (2 * mu)\n",
        "  print('\\n\\n--> Distancia pericéntrica: q = {} u.a'.format(q))\n"
      ],
      "metadata": {
        "colab": {
          "base_uri": "https://localhost:8080/"
        },
        "id": "9hc_1xHU7qpi",
        "outputId": "2a019561-68f7-4632-9d4a-bbebe3b752b5"
      },
      "execution_count": null,
      "outputs": [
        {
          "output_type": "stream",
          "name": "stdout",
          "text": [
            "¿El cuerpo se encuentra orbitando al Sol? (s/n): s\n",
            "\n",
            "\n",
            "¿Puede considerarse de masa despreciable? (s/n): s\n",
            "\n",
            "\n",
            "---> mu = 0.0002959122127581369 u.a^3·d^-2\n",
            "\n",
            "\n",
            "---> Q = 1.0627882644329893\n",
            "---> |2 - Q| = 0.9372117355670107\n",
            "\n",
            "\n",
            "---> Tipo de órbita: ELÍPTICA\n",
            "\n",
            "\n",
            "---> Semieje Mayor: a = 2.7664541640054097 u.a\n"
          ]
        }
      ]
    },
    {
      "cell_type": "markdown",
      "source": [
        "La excentricidad se puede hallar a partir del cálculo de las componentes del vector de Laplace-Runge-Lenz:\n",
        "\n",
        "> $$e_1 = \\frac{1}{\\mu}[x(\\dot{y}^2+\\dot{z}^2) - \\dot{x}(y\\dot{y} + z\\dot{z})]-\\frac{x}{r}$$\n",
        "\n",
        "> $$e_2 = \\frac{1}{\\mu}[y(\\dot{x}^2+\\dot{z}^2) - \\dot{y}(x\\dot{x} + z\\dot{z})]-\\frac{y}{r}$$\n",
        "\n",
        "> $$e_3 = \\frac{1}{\\mu}[z(\\dot{x}^2+\\dot{y}^2) - \\dot{z}(x\\dot{x} + y\\dot{y})]-\\frac{z}{r}$$\n",
        "\n",
        "\n",
        "\n"
      ],
      "metadata": {
        "id": "eehh3rWLaE7k"
      }
    },
    {
      "cell_type": "code",
      "source": [
        "# CÁLCULO DE LA EXCENTRICIDAD A PARTIR DE SUS COMPONENTES\n",
        "\n",
        "e1 = (1 / mu) * (x * (y_punto**2 + z_punto **2) - x_punto * (y * y_punto + z * z_punto)) - (x / r)\n",
        "e2 = (1 / mu) * (y * (x_punto**2 + z_punto **2) - y_punto * (x * x_punto + z * z_punto)) - (y / r)\n",
        "e3 = (1 / mu) * (z * (x_punto**2 + y_punto **2) - z_punto * (x * x_punto + y * y_punto)) - (z / r)\n",
        "e = math.sqrt(e1**2 + e2**2 + e3**2)\n",
        "print(e)\n",
        "if round(e,3) == 1:\n",
        "  e = 1\n",
        "\n",
        "print('\\n\\n---> e1 = {} \\n\\n---> e2 = {} \\n\\n---> e3 = {} \\n\\n---> e = {}'.format(e1, e2, e3, e))"
      ],
      "metadata": {
        "colab": {
          "base_uri": "https://localhost:8080/"
        },
        "id": "5f9gBeLVdP4n",
        "outputId": "d43234b3-5550-4252-a851-082cb78d51a6"
      },
      "execution_count": null,
      "outputs": [
        {
          "output_type": "stream",
          "name": "stdout",
          "text": [
            "0.0785914371779362\n",
            "\n",
            "\n",
            "---> e1 = -0.06926605582138529 \n",
            "\n",
            "---> e2 = 0.03445341447748829 \n",
            "\n",
            "---> e3 = 0.013848817259413532 \n",
            "\n",
            "---> e = 0.0785914371779362\n"
          ]
        }
      ]
    },
    {
      "cell_type": "code",
      "source": [
        "# CONTROL\n",
        "h1*e1 + h2 * e2 + h3*e3"
      ],
      "metadata": {
        "colab": {
          "base_uri": "https://localhost:8080/"
        },
        "id": "CDWO4w91KGmW",
        "outputId": "70543c51-75dd-4d93-cfc2-54b1782f9ea0"
      },
      "execution_count": null,
      "outputs": [
        {
          "output_type": "execute_result",
          "data": {
            "text/plain": [
              "-5.421010862427522e-20"
            ]
          },
          "metadata": {},
          "execution_count": 7
        }
      ]
    },
    {
      "cell_type": "markdown",
      "source": [
        "Alternativamente, la magnitud del momento angular y el conocimiento del semieje mayor permite obtener también el valor de la excentricidad:\n",
        "\n",
        "\n",
        "\n",
        "> $$e = \\sqrt{1 \\mp \\frac{h^2}{\\mu a}}$$\n",
        "\n",
        "donde el signo negativo corresponde a la órbita elíptica y el positivo a la hiperbólica. Es claro que si $A = a = \\infty$ se tiene que $e = 1$ (parábola).\n",
        "\n"
      ],
      "metadata": {
        "id": "ropEtDWveeNP"
      }
    },
    {
      "cell_type": "code",
      "source": [
        "# CÁLCULO ALTERNATIVO DEL VALOR DE LA EXCENTRICIDAD:\n",
        "\n",
        "if trayectoria == 'ELÍPTICA':\n",
        "  e = math.sqrt(1 - (h**2 / (mu * a)))\n",
        "\n",
        "elif trayectoria == 'HIPERBÓLICA':\n",
        "  e = math.sqrt(1 + (h**2 / (mu * a)))\n",
        "\n",
        "else:\n",
        " e = 1\n",
        "\n",
        "print('Excentricidad: e = {}'.format(e))"
      ],
      "metadata": {
        "colab": {
          "base_uri": "https://localhost:8080/"
        },
        "id": "ijB6QH1HfTsS",
        "outputId": "55f3cb55-aba8-46a0-e35f-7448deb16485"
      },
      "execution_count": null,
      "outputs": [
        {
          "output_type": "stream",
          "name": "stdout",
          "text": [
            "Excentricidad: e = 0.07859143717793649\n"
          ]
        }
      ]
    },
    {
      "cell_type": "markdown",
      "source": [
        "El conocimiento de las componentes del vector momento angular permite determinar dos de los elementos orbitales angulares. La longitud del nodo ascendente $\\Omega$ y la inclinación del plano orbital con relación al plano fundamental, $i$:\n",
        "\n",
        "\n",
        "\n",
        "> $$ \\Omega = \\arctan{\\frac{h_1}{-h_2}}$$\n",
        "\n",
        "\n",
        "\n",
        "> $$i = \\arccos{\\frac{h_3}{\\sqrt{h_1^2 + h_2^2 + h_3^2}}}$$\n",
        "\n",
        "\n",
        "**$\\Omega$ es circularizante, se debe aplicar CRITERIO DEL CUADRANTE**"
      ],
      "metadata": {
        "id": "sqE7-w8xLNtJ"
      }
    },
    {
      "cell_type": "code",
      "source": [
        "# CÁLCULO DE LA LONGITUD DEL NODO ASCENDENTE (OMEGA GRANDE) Y LA INCLINACIÓN (i)\n",
        "\n",
        "Omegar = math.atan2(h1, -h2) # OMEGA EN RADIANES, APLICANDO CRITERIO DEL CUADRANTE\n",
        "Omega = math.degrees(Omegar) # EN GRADOS\n",
        "\n",
        "ir = math.acos(h3 / h) # EN RADIANES\n",
        "i = math.degrees(ir)\n",
        "\n",
        "print('---> Longitud del nodo ascendente: Omega = {}º \\n\\n---> Inclinación: i = {}º'.format(Omega, i))\n"
      ],
      "metadata": {
        "colab": {
          "base_uri": "https://localhost:8080/"
        },
        "id": "q2Aiu4kkUZ_p",
        "outputId": "02844d2d-deb8-4cc9-df95-73fbf418bf06"
      },
      "execution_count": null,
      "outputs": [
        {
          "output_type": "stream",
          "name": "stdout",
          "text": [
            "---> Longitud del nodo ascendente: Omega = 80.26741694854339º \n",
            "\n",
            "---> Inclinación: i = 10.58699762853397º\n"
          ]
        }
      ]
    },
    {
      "cell_type": "markdown",
      "source": [
        "El cálculo de $\\omega$ puede hacerse a partir de:\n",
        "\n",
        "\n",
        "\n",
        "> $$\\omega =\\arctan{\\left(\\frac{e_3·h}{-e_1h_2+e_2h_1}\\right)}$$\n",
        "\n",
        "**Se debe aplicar CRITERIO DEL CUADRANTE**"
      ],
      "metadata": {
        "id": "c5NoWH00cZ1S"
      }
    },
    {
      "cell_type": "code",
      "source": [
        "# CÁLCULO DEL ARGUMENTO DE LATITUD DEL PERIHELIO (OMEGA PEQUEÑO)\n",
        "\n",
        "omegar = math.atan2(e3*h, -e1*h2 + e2*h1) # EN RADIANES, APLICANDO CRITERIO DEL CUADRANTE\n",
        "omega = math.degrees(omegar)\n",
        "if omega < 0:\n",
        "  omega = 360 + omega\n",
        "\n",
        "if omega > 360:\n",
        "  omega = omega - 360 * math.floor(omega / 360)\n",
        "\n",
        "print('Argumento de latitud del perihelio: omega = {}º'.format(omega))"
      ],
      "metadata": {
        "colab": {
          "base_uri": "https://localhost:8080/"
        },
        "id": "WTF8UnJjdpLv",
        "outputId": "fa896b20-9550-439e-93c2-33f53ba21a41"
      },
      "execution_count": null,
      "outputs": [
        {
          "output_type": "stream",
          "name": "stdout",
          "text": [
            "Argumento de latitud del perihelio: omega = 73.55553575151426º\n"
          ]
        }
      ]
    },
    {
      "cell_type": "markdown",
      "source": [
        "Se advierte, sin embargo, que esta expresión no es útil para el caso en que el plano orbital del objeto en cuestión coincida con el plano fundamental, dado que en tal situación se tiene que $h_1 = h_2 = 0$ (es\n",
        "decir, el momento angular por unidad de masa del objeto, $\\vec{h}$, está justo en la dirección del eje $z$). Para obtener de forma alternativa este ángulo:\n",
        "\n",
        "Puesto que $\\vec{r}\\cdot \\hat{n}=r\\cos{(\\omega + \\theta)}$, así como $\\vec{r}·\\hat{m} = r \\sin{(\\omega + \\theta)}$, entonces:\n",
        "\n",
        "> $$\\tan{(\\omega + \\theta)}= \\frac{\\vec{r}·\\hat{m}}{\\vec{r}\\cdot \\hat{n}}=\\frac{-x\\sin{\\Omega}\\cos{i}+y\\cos{\\Omega}\\cos{i}+z\\sin{i}}{x\\cos{\\Omega}+y\\sin{\\Omega}}$$\n",
        "\n",
        "Y como $\\Omega=i=0$, se tiene:\n",
        "\n",
        "\n",
        "> $$\\tan{(\\omega + \\theta)}= \\frac{y}{x}$$\n",
        "\n",
        "\n",
        "> $$\\omega + \\theta = \\arctan{\\frac{y}{x}} $$\n",
        "\n",
        "Una vez calculado $\\theta$, es posible hallar $\\omega$, recordar aplicar el CRITERIO DEL CUADRANTE.\n"
      ],
      "metadata": {
        "id": "hmuN4pWxnqGH"
      }
    },
    {
      "cell_type": "code",
      "source": [
        "# CÁLCULO DEL ARGUMENTO DE LATITUD DEL PERIHELIO (CASO ESPECIAL) CONOCIENDO THETA\n",
        "\n",
        "omegar = math.atan2(y,x) - thetar # EN RADIANES, APLICANDO CRITERIO DEL CUADRANTE\n",
        "omega = math.degrees(omegar) # EN GRADOS\n",
        "\n",
        "print('Argumento de latitud del perihelio: omega = {}º'.format(omega))"
      ],
      "metadata": {
        "id": "GRK0qFSQtOZt",
        "colab": {
          "base_uri": "https://localhost:8080/",
          "height": 232
        },
        "outputId": "c10019e6-dc5d-450f-e615-ee2a54286346"
      },
      "execution_count": null,
      "outputs": [
        {
          "output_type": "error",
          "ename": "NameError",
          "evalue": "ignored",
          "traceback": [
            "\u001b[0;31m---------------------------------------------------------------------------\u001b[0m",
            "\u001b[0;31mNameError\u001b[0m                                 Traceback (most recent call last)",
            "\u001b[0;32m<ipython-input-11-6b360b6fb00f>\u001b[0m in \u001b[0;36m<cell line: 3>\u001b[0;34m()\u001b[0m\n\u001b[1;32m      1\u001b[0m \u001b[0;31m# CÁLCULO DEL ARGUMENTO DE LATITUD DEL PERIHELIO (CASO ESPECIAL) CONOCIENDO THETA\u001b[0m\u001b[0;34m\u001b[0m\u001b[0;34m\u001b[0m\u001b[0m\n\u001b[1;32m      2\u001b[0m \u001b[0;34m\u001b[0m\u001b[0m\n\u001b[0;32m----> 3\u001b[0;31m \u001b[0momegar\u001b[0m \u001b[0;34m=\u001b[0m \u001b[0mmath\u001b[0m\u001b[0;34m.\u001b[0m\u001b[0matan2\u001b[0m\u001b[0;34m(\u001b[0m\u001b[0my\u001b[0m\u001b[0;34m,\u001b[0m\u001b[0mx\u001b[0m\u001b[0;34m)\u001b[0m \u001b[0;34m-\u001b[0m \u001b[0mthetar\u001b[0m \u001b[0;31m# EN RADIANES, APLICANDO CRITERIO DEL CUADRANTE\u001b[0m\u001b[0;34m\u001b[0m\u001b[0;34m\u001b[0m\u001b[0m\n\u001b[0m\u001b[1;32m      4\u001b[0m \u001b[0momega\u001b[0m \u001b[0;34m=\u001b[0m \u001b[0mmath\u001b[0m\u001b[0;34m.\u001b[0m\u001b[0mdegrees\u001b[0m\u001b[0;34m(\u001b[0m\u001b[0momegar\u001b[0m\u001b[0;34m)\u001b[0m \u001b[0;31m# EN GRADOS\u001b[0m\u001b[0;34m\u001b[0m\u001b[0;34m\u001b[0m\u001b[0m\n\u001b[1;32m      5\u001b[0m \u001b[0;34m\u001b[0m\u001b[0m\n",
            "\u001b[0;31mNameError\u001b[0m: name 'thetar' is not defined"
          ]
        }
      ]
    },
    {
      "cell_type": "markdown",
      "source": [
        "Finalmente, resta por encontrar el valor del tiempo del paso por el perihelio o, lo que es equivalente, el valor de la anomalía media de referencia, esto es, el valor de la anomalía media para un tiempo dado, en este caso $t_x$."
      ],
      "metadata": {
        "id": "3lQEkec7u6Ik"
      }
    },
    {
      "cell_type": "markdown",
      "source": [
        "### **ÓRBITA ELÍPTICA**\n",
        "Para la anomalía verdadera $\\theta$:\n",
        "\n",
        "\n",
        "> $$\\theta = \\arccos{\\left[\\frac{1}{e}\\left(\\frac{a(1-e^2)-r}{r}\\right)\\right]}$$\n",
        "\n",
        "Para establecer el valor correcto, es importante tener presente la tasa de cambio de la distancia radial:\n",
        "\n",
        "> $$\\dot{r} = \\frac{x\\dot{x} + y\\dot{y} + z\\dot{z}}{r}$$\n",
        "\n",
        "Si $\\ \\dot{r} < 0$, el objeto se está acercando. En tal caso, el valor correcto de $\\theta$ es $180-\\theta$ (Tercer o cuarto cuadrante). Si $\\ \\dot{r} > 0$ (Primero o segundo cuadrante), el objeto se está alejando. En tal caso, el valor correcto es $\\theta$.\n",
        "\n"
      ],
      "metadata": {
        "id": "gWtUs948vVOl"
      }
    },
    {
      "cell_type": "code",
      "source": [
        "# CÁLCULO DE LA ANOMALÍA VERDADERA PARA ÓRBITA **ELÍPTICA**\n",
        "\n",
        "# PARA SABER EL VALOR CORRECTO\n",
        "\n",
        "r_punto = ((x * x_punto) + (y * y_punto) + (z * z_punto))/r\n",
        "\n",
        "print('---> Tasa de cambio de la distancia radial: {} u.a/d'.format(r_punto))\n",
        "\n",
        "thetar = math.acos((1 / e) * ((a * (1 - e**2) - r) / r)) # EN RADIANES\n",
        "\n",
        "theta = math.degrees(thetar) # EN GRADOS\n",
        "print(theta)\n",
        "print(360-theta)\n",
        "if r_punto < 0:\n",
        "  theta = 360 - theta\n",
        "  thetar = math.radians(theta)\n",
        "\n",
        "print('\\n\\n---> Anomalía verdadera: {}º'.format(theta))"
      ],
      "metadata": {
        "colab": {
          "base_uri": "https://localhost:8080/"
        },
        "id": "lYG2X0Z0y3cW",
        "outputId": "50f33491-2281-4c93-db34-12ef6965c7ac"
      },
      "execution_count": null,
      "outputs": [
        {
          "output_type": "stream",
          "name": "stdout",
          "text": [
            "---> Tasa de cambio de la distancia radial: -0.0005216121047215745 u.a/d\n",
            "39.77285475395409\n",
            "320.2271452460459\n",
            "\n",
            "\n",
            "---> Anomalía verdadera: 320.2271452460459º\n"
          ]
        }
      ]
    },
    {
      "cell_type": "markdown",
      "source": [
        "Ya teniendo $\\theta$ en el cuadrante correcto, podemos hallar la anomalía excéntrica:\n",
        "\n",
        "\n",
        "\n",
        "> $$E = 2 \\arctan{\\left[\\sqrt{\\frac{1-e}{1+e}}\\tan{\\frac{\\theta}{2}}\\right]}$$\n",
        "\n",
        "NO ES NECESARIO APLICAR CRITERIO DEL CUADRANTE"
      ],
      "metadata": {
        "id": "Oewvc1qA_ksq"
      }
    },
    {
      "cell_type": "code",
      "source": [
        "# ANOMALÍA EXCÉNTRICA PARA ÓRBITA ELÍPTICA\n",
        "\n",
        "Er = 2 * math.atan(math.sqrt((1 - e) / (1 + e))* math.tan(math.radians(theta) / 2)) # EN RADIANES\n",
        "E = math.degrees(Er) # EN GRADOS\n",
        "if E < 0:\n",
        "  E = 360 + E\n",
        "print('---> Anomalía excéntrica: E = {}º'.format(E))"
      ],
      "metadata": {
        "colab": {
          "base_uri": "https://localhost:8080/"
        },
        "id": "GTrArYTUAaGR",
        "outputId": "0e37dbe6-df2d-4e6b-84b7-c992a31189ef"
      },
      "execution_count": null,
      "outputs": [
        {
          "output_type": "stream",
          "name": "stdout",
          "text": [
            "---> Anomalía excéntrica: E = 290.9945880169163º\n"
          ]
        }
      ]
    },
    {
      "cell_type": "markdown",
      "source": [
        "Este valor de $E$ corresponde al tiempo $t_x$. Es evidente que podemos calcular la anomalía media para el tiempo $t_x$, donde este tiempo se convierte en el tiempo de referencia $(t_x = t_r)$, mediante:\n",
        "\n",
        "\n",
        "\n",
        "> $$M_r = E - e\\left(\\frac{180}{\\pi}\\sin{E}\\right)$$\n",
        "\n"
      ],
      "metadata": {
        "id": "H-Zo7RXhCPD9"
      }
    },
    {
      "cell_type": "code",
      "source": [
        "# CÁLCULO DE LA ANOMALÍA MEDIA A PARTIR DE LA ANOMALÍA EXCÉNTRICA\n",
        "\n",
        "Mr = E - e * ((180 / math.pi) * math.sin(math.radians(E))) # EN GRADOS\n",
        "\n",
        "print('---> Anomalía media de referencia: {}º'.format(Mr))"
      ],
      "metadata": {
        "colab": {
          "base_uri": "https://localhost:8080/"
        },
        "id": "wGo1usH9C-g6",
        "outputId": "af63df56-64d4-45ef-c82b-8ec735293ce0"
      },
      "execution_count": null,
      "outputs": [
        {
          "output_type": "stream",
          "name": "stdout",
          "text": [
            "---> Anomalía media de referencia: 293.6106609187858º\n"
          ]
        }
      ]
    },
    {
      "cell_type": "markdown",
      "source": [
        "Ahora, si se desea calcular el tiempo del paso por el pericentro $t_0$, entonces, de la definición de anomalía media se tiene:\n",
        "\n",
        "\n",
        "> $$t_0 = t_r - \\frac{M_r}{n}$$\n",
        "\n",
        "donde $n$ es el movimiento medio, en $\\ º/d$\n",
        "\n",
        "\n",
        "> $$n = \\frac{(180 / \\pi)\\sqrt{\\mu}}{a^{3/2}}$$\n",
        "\n"
      ],
      "metadata": {
        "id": "3Zly7CkjGeio"
      }
    },
    {
      "cell_type": "code",
      "source": [
        "# FUNCIONES PARA EL MOV. MEDIO\n",
        "\n",
        "def n_sol(longitud_eje_mayor,proporcion):\n",
        "\n",
        "    \"\"\" Calcula el movimiento medio EN GRADOS de un objeto celeste ORBITANDO EL SOL\n",
        "        ---> La proporción es m2 / m_sol\"\"\"\n",
        "    n = (180/math.pi) * 0.01720209908 * (math.sqrt(1+proporcion)) / longitud_eje_mayor**(3/2)\n",
        "    return n\n",
        "\n",
        "def n_masadespreciable_sol(longitud_eje_mayor):\n",
        "\n",
        "    \"\"\" Calcula el movimiento medio EN GRADOS de un objeto celeste de MASA DESPRECIABLE ORBITANDO EL SOL\"\"\"\n",
        "\n",
        "    n = (180/math.pi) * 0.01720209908 / longitud_eje_mayor**(3/2)\n",
        "    return n\n",
        "\n",
        "def n_general(longitud_eje_mayor, m1, m2):\n",
        "\n",
        "    \"\"\" Calcula el movimiento medio EN GRADOS de un objeto celeste m2 ORBITANDO m1\"\"\"\n",
        "    n = (180/math.pi) * math.sqrt((6.67e-11 * (86400**2) / (149597870.7e3)**3)* (m1+ m2)) / longitud_eje_mayor**(3/2)\n",
        "    return n\n",
        "\n",
        "\n",
        "\n",
        "mov_medio_sol = input(\"\\n¿El cuerpo celeste se encuentra orbitando al Sol? (s/n): \")\n",
        "\n",
        "if mov_medio_sol == \"s\":\n",
        "    masa_despreciable = input(\"\\n¿Puede considerarse de masa despreciable? (s/n): \")\n",
        "    if masa_despreciable == \"s\":\n",
        "        n = n_masadespreciable_sol(a)\n",
        "        print(\"\\n---> Movimiento medio: n = {} º/d\".format(n))\n",
        "\n",
        "    else:\n",
        "        datos = int(input(\"\\n¿Qué datos tiene?:\\n\\n  m2 / m_Sol (1) \\n\\n  m_Sol / m2 (2)\\n \"))\n",
        "        if datos == 1:\n",
        "            proporcion = float(input(\"\\nIngrese m2 / m_Sol: \"))\n",
        "            n = n_sol(a, proporcion)\n",
        "            print(\"\\n---> Movimiento medio: n = {} º/d\".format(n))\n",
        "        else:\n",
        "            p = float(input(\"\\nIngrese m_Sol / m2: \"))\n",
        "            proporcion = 1/p\n",
        "            n = round(n_sol(a, proporcion), 7)\n",
        "            print(\"\\n---> Movimiento medio: n = {} º/d\".format(n))\n",
        "\n",
        "else:\n",
        "    m1 = float(input(\"\\ningrese el valor de m1: \"))\n",
        "    m2 = float(input(\"\\ningrese el valor de m2: \"))\n",
        "    n = n_general(a, m1, m2)\n",
        "    print(\"\\n---> Movimiento medio: n = {} º/d\".format(n))\n",
        "\n",
        "    # n = 0.08305831810403423 º/d"
      ],
      "metadata": {
        "id": "dFlLbCAOIZ_5",
        "colab": {
          "base_uri": "https://localhost:8080/"
        },
        "outputId": "6b78f8cb-02be-4b68-dd4c-4897b0f3af29"
      },
      "execution_count": null,
      "outputs": [
        {
          "output_type": "stream",
          "name": "stdout",
          "text": [
            "\n",
            "¿El cuerpo celeste se encuentra orbitando al Sol? (s/n): s\n",
            "\n",
            "¿Puede considerarse de masa despreciable? (s/n): n\n",
            "\n",
            "¿Qué datos tiene?:\n",
            "\n",
            "  m2 / m_Sol (1) \n",
            "\n",
            "  m_Sol / m2 (2)\n",
            " 2\n",
            "\n",
            "Ingrese m_Sol / m2: 1047.348644\n",
            "\n",
            "---> Movimiento medio: n = 0.083098 º/d\n"
          ]
        }
      ]
    },
    {
      "cell_type": "markdown",
      "source": [
        "**CÁLCULO DEL TIEMPO DE PASO POR EL PERIHELIO ÓRBITA ELÍPTICA**"
      ],
      "metadata": {
        "id": "xdyNZ8ikqXTp"
      }
    },
    {
      "cell_type": "code",
      "source": [
        "# CÁLCULO DEL TIEMPO DE PASO POR EL PERIHELIO FECHA JULIANA **ÓRBITA ELÍPTICA**\n",
        "t_0 = t_x - (Mr / n)\n",
        "\n",
        "print('---> Fecha juliana del tiempo de paso por el perihelio: t_0 = {}'.format(t_0))\n"
      ],
      "metadata": {
        "colab": {
          "base_uri": "https://localhost:8080/"
        },
        "id": "aNPxWff0JHI_",
        "outputId": "19ffa930-00d4-4969-94cc-a5a082390f0d"
      },
      "execution_count": null,
      "outputs": [
        {
          "output_type": "stream",
          "name": "stdout",
          "text": [
            "---> Fecha juliana del tiempo de paso por el perihelio: t_0 = 2451307.194012867\n"
          ]
        }
      ]
    },
    {
      "cell_type": "markdown",
      "source": [
        "### **ÓRBITA PARABÓLICA**\n",
        "\n",
        "Para la anomalía verdadera:\n",
        "\n",
        "\n",
        "\n",
        "> $$r \\cos{\\theta}= 2q - r$$\n",
        "\n",
        "> $$\\theta = \\arccos{\\left(\\frac{2q-r}{r}\\right)}$$\n",
        "\n",
        "Para establecer el valor correcto, es importante tener presente la tasa de cambio de la distancia radial:\n",
        "\n",
        "> $$\\dot{r} = \\frac{x\\dot{x} + y\\dot{y} + z\\dot{z}}{r}$$\n",
        "\n",
        "Si $\\ \\dot{r} < 0$, el objeto se está acercando. En tal caso, el valor correcto de $\\theta$ es $180-\\theta$ (Tercer o cuarto cuadrante). Este valor indica que el objeto NO HA PASADO POR EL PERICENTRO. Si $\\ \\dot{r} > 0$ (Primero o segundo cuadrante), el objeto se está alejando. En tal caso, el valor correcto es $\\theta$. Este valor indica que el objeto YA PASÓ POR EL PERICENTRO.\n",
        "\n"
      ],
      "metadata": {
        "id": "JKmy5GWJfkMf"
      }
    },
    {
      "cell_type": "code",
      "source": [
        "# CÁLCULO DE LA ANOMALÍA VERDADERA PARA ÓRBITA **PARABÓLICA**\n",
        "\n",
        "# PARA SABER EL VALOR CORRECTO\n",
        "\n",
        "r_punto = ((x * x_punto) + (y * y_punto) + (z * z_punto))/r\n",
        "\n",
        "print('---> Tasa de cambio de la distancia radial: {} u.a/d'.format(r_punto))\n",
        "\n",
        "thetar = math.acos((2 * q - r)/ r) # EN RADIANES\n",
        "theta = math.degrees(thetar) # EN GRADOS\n",
        "\n",
        "if r_punto < 0:\n",
        "  theta = 360 - theta\n",
        "  thetar = math.radians(theta)\n",
        "  paso_perihelio =  'El objeto NO HA PASADO POR EL PERICENTRO'\n",
        "\n",
        "else:\n",
        "  paso_perihelio = 'El objeto YA PASÓ POR EL PERICENTRO'\n",
        "\n",
        "print('\\n---> Anomalía verdadera: theta = {}º \\n\\n---> {}'.format(theta, paso_perihelio))\n",
        "\n"
      ],
      "metadata": {
        "colab": {
          "base_uri": "https://localhost:8080/"
        },
        "id": "TmPBA1mHg4W_",
        "outputId": "616c3390-cdc1-4ad8-cd5b-b965e8c7e2ac"
      },
      "execution_count": null,
      "outputs": [
        {
          "output_type": "stream",
          "name": "stdout",
          "text": [
            "---> Tasa de cambio de la distancia radial: -0.00602079491581765 u.a/d\n",
            "\n",
            "---> Anomalía verdadera: theta = 284.40774948876856º \n",
            "\n",
            "---> El objeto NO HA PASADO POR EL PERICENTRO\n"
          ]
        }
      ]
    },
    {
      "cell_type": "markdown",
      "source": [
        "Ahora hallamos los ángulos $\\Psi$ y $S$:\n",
        "\n",
        "\n",
        "\n",
        "> $$\\Psi = \\frac{1}{2}\\arctan{\\left[\\frac{2}{\\tan{\\frac{\\theta}{2}}}\\right]}$$\n",
        "\n",
        "\n",
        "\n",
        "\n",
        "> $$S = 2\\arctan{(\\tan^3{\\Psi})}$$\n",
        "\n",
        "\n"
      ],
      "metadata": {
        "id": "2OHSvV08qee1"
      }
    },
    {
      "cell_type": "code",
      "source": [
        "# CÁLCULO DE PSI Y S\n",
        "\n",
        "Psir = (1/2) * math.atan(2 / (math.tan(math.radians(theta) / 2))) # EN RADIANES,  ** NO ** APLICANDO CRITERIO DEL CUADRANTE\n",
        "Psi = math.degrees(Psir) # EN GRADOS\n",
        "\n",
        "Sr = 2 * math.atan((math.tan(Psir))**3) # EN RADIANES, ** NO **  APLICANDO CRITERIO DEL CUADRANTRE\n",
        "S = math.degrees(Sr)\n",
        "\n",
        "print('---> Psi = {}º \\n\\n---> S = {}º'.format(Psi, S))"
      ],
      "metadata": {
        "colab": {
          "base_uri": "https://localhost:8080/"
        },
        "id": "MINkJMnuxDqR",
        "outputId": "69bc9005-6a7b-4b65-90e0-0dcf4e74cd3a"
      },
      "execution_count": null,
      "outputs": [
        {
          "output_type": "stream",
          "name": "stdout",
          "text": [
            "---> Psi = -34.40221226069953º \n",
            "\n",
            "---> S = -35.60332496736949º\n"
          ]
        }
      ]
    },
    {
      "cell_type": "markdown",
      "source": [
        "**CÁLCULO DEL TIEMPO DE PASO POR EL PERIHELIO ÓRBITA PARABÓLICA**\n",
        "\n",
        "Se calcula a partir de:\n",
        "\n",
        "\n",
        "> $$t_0 = t_x - \\frac{2}{3}\\sqrt{\\frac{2q^3}{\\mu}}\\cot{S}$$\n",
        "\n"
      ],
      "metadata": {
        "id": "NEBZPTei0yZl"
      }
    },
    {
      "cell_type": "code",
      "source": [
        "# TIEMPO DE PASO POR EL PERIHELIO FECHA JULIANA **ÓRBITA PARABÓLICA**\n",
        "\n",
        "t_0 = t_x - (2/3) * math.sqrt((2 * q**3) / mu) * (1 / math.tan(Sr))\n",
        "\n",
        "print('---> Fecha juliana del tiempo de paso por el perihelio: t_0 = {}'.format(t_0))"
      ],
      "metadata": {
        "colab": {
          "base_uri": "https://localhost:8080/"
        },
        "id": "dWseKRnB1Myn",
        "outputId": "b594dc60-f6a4-4542-c3b1-00e4efdb16df"
      },
      "execution_count": null,
      "outputs": [
        {
          "output_type": "stream",
          "name": "stdout",
          "text": [
            "---> Fecha juliana del tiempo de paso por el perihelio: t_0 = 2457277.004254927\n"
          ]
        }
      ]
    },
    {
      "cell_type": "markdown",
      "source": [
        "### **CONVERSIÓN DE FECHA JULIANA A FECHA GREGORIANA**"
      ],
      "metadata": {
        "id": "IuB11J_J1eWY"
      }
    },
    {
      "cell_type": "code",
      "source": [
        "# CONVERSIÓN DE FECHA JULIANA A FECHA GREGORIANA\n",
        "\n",
        "\n",
        "def fecha_juliana_to_normal(jd):\n",
        "    \"\"\"\n",
        "    Convierte una fecha juliana en una fecha normal (año, mes, día, hora, minuto, segundo).\n",
        "    \"\"\"\n",
        "    # Se convierte a formato de fecha y hora de Python\n",
        "    t = (jd - 2440587.5) * 86400.0\n",
        "    dt = datetime.datetime.utcfromtimestamp(t)\n",
        "\n",
        "    # Se extraen las partes correspondientes a fecha y hora\n",
        "    year = dt.year\n",
        "    month = dt.month\n",
        "    day = dt.day\n",
        "    hour = dt.hour\n",
        "    minute = dt.minute\n",
        "    second = dt.second\n",
        "\n",
        "    # Se devuelve la fecha y hora normal\n",
        "    return year, month, day, hour, minute, second\n",
        "\n",
        "\n",
        "fecha_juliana = t_0\n",
        "fecha_normal = fecha_juliana_to_normal(fecha_juliana)\n",
        "print('t_0 = {}'.format(fecha_normal))"
      ],
      "metadata": {
        "colab": {
          "base_uri": "https://localhost:8080/"
        },
        "id": "dhcfyyyOL9dP",
        "outputId": "bfd1276b-916e-4c22-c3e9-d3965d2de66a"
      },
      "execution_count": null,
      "outputs": [
        {
          "output_type": "stream",
          "name": "stdout",
          "text": [
            "t_0 = (1999, 5, 8, 16, 39, 22)\n"
          ]
        }
      ]
    }
  ]
}