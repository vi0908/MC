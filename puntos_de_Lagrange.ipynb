{
  "nbformat": 4,
  "nbformat_minor": 0,
  "metadata": {
    "colab": {
      "provenance": [],
      "authorship_tag": "ABX9TyMQxwRQnoKWvecEFUz3PXKp",
      "include_colab_link": true
    },
    "kernelspec": {
      "name": "python3",
      "display_name": "Python 3"
    },
    "language_info": {
      "name": "python"
    }
  },
  "cells": [
    {
      "cell_type": "markdown",
      "metadata": {
        "id": "view-in-github",
        "colab_type": "text"
      },
      "source": [
        "<a href=\"https://colab.research.google.com/github/vi0908/MC/blob/main/puntos_de_Lagrange.ipynb\" target=\"_parent\"><img src=\"https://colab.research.google.com/assets/colab-badge.svg\" alt=\"Open In Colab\"/></a>"
      ]
    },
    {
      "cell_type": "code",
      "source": [
        "import numpy as np\n",
        "import matplotlib.pyplot as plt\n",
        "import math\n",
        "from scipy.optimize import bisect"
      ],
      "metadata": {
        "id": "Z8YkennIbT-c"
      },
      "execution_count": null,
      "outputs": []
    },
    {
      "cell_type": "markdown",
      "source": [
        "# **UNIDADES UNITARIAS**"
      ],
      "metadata": {
        "id": "9zJfel1wbaGb"
      }
    },
    {
      "cell_type": "markdown",
      "source": [
        "Las ecuaciones y el cálculo involucrado en el problema de los tres cuerpos restringido y circular pueden simplificarse y facilitarse notablemente por intermedio de la utilización de las siguientes convenciones y cambio de unidades:\n",
        "\n",
        "\n",
        "\n",
        "1.   La suma de las dos masas principales es igual a la unidad, esto es, $m_1+m_2 = 1$. Con esto se puede escribir la masa de $m_1$ en términos de $m_2$ así: $m_1 = 1 - m_2$.\n",
        "\n",
        "2.   La distancia existente entre los dos cuerpos principales es igual a la unidad. Así, se tiene: $a = 1 = x_2 - x_1$. Por lo tanto: $-x_1 = m_2$ y  $ x_2 = m_1 = 1 - m_2$\n",
        "\n",
        "3. Se adopta, según el sistema involucrado en particular, una unidad de tiempo\n",
        "conveniente de modo tal que se pueda hacer $G = n_2 = 1$ (lo cual es siempre\n",
        "posible hacerse). Nótese, entonces que el periodo de $m_2$ con respecto a $m_1$ es igual a $2\\pi$."
      ],
      "metadata": {
        "id": "_Zpx-gTLlvIY"
      }
    },
    {
      "cell_type": "code",
      "execution_count": null,
      "metadata": {
        "colab": {
          "base_uri": "https://localhost:8080/"
        },
        "id": "Je5UwmP3D7EQ",
        "outputId": "69432c62-d2eb-4189-b5e9-8bc708e4a9a6"
      },
      "outputs": [
        {
          "output_type": "stream",
          "name": "stdout",
          "text": [
            "Tiene el valor de a en metros (s/n): n\n",
            "ingrese a (en u.a): 0.465\n",
            "\n",
            "\n",
            "---> a = 69563009875.5 m \n",
            "\n",
            "\n",
            "Tiene el valor de las masas (en kg): s\n",
            "ingrese m1: 1\n",
            "ingrese m2: 1\n",
            "\n",
            "\n",
            "Tiene la proporción entre las masas (s/n): n\n",
            "\n",
            "\n",
            "---> m1 = 0.8725490196078431\n",
            "\n",
            "---> m2 = 0.12745098039215685 \n",
            "\n",
            "\n",
            "Tiene el valor del periodo orbital (s/n): n\n",
            "m2 se encuentra orbitando al Sol (s/n): n\n",
            "\n",
            "\n",
            "---> periodo: T = 114.43870338151565 días \n",
            "\n",
            "---> unidad de tiempo (para que G = 1): t = 18.213485324195414 días\n",
            "\n",
            "\n",
            "---> x1 = -0.12745098039215685 \n",
            "\n",
            "---> x2 = 0.8725490196078431\n"
          ]
        }
      ],
      "source": [
        "# UNIDADES UNITARIAS SIN SUPONER VALOR DE M2 PARA ÓRBITA CIRCULAR\n",
        "\n",
        "tiene_a = input('Tiene el valor de a en metros (s/n): ')\n",
        "\n",
        "if tiene_a == 's':\n",
        "  a = float(input('ingrese a (en metros): '))\n",
        "\n",
        "else:\n",
        "  a = float(input('ingrese a (en u.a): '))\n",
        "  a = a * 149597870.7e3 # en u.a\n",
        "\n",
        "print('\\n\\n---> a = {} m \\n\\n'.format(a))\n",
        "\n",
        "tiene_masas = input('Tiene el valor de las masas (en kg): ')\n",
        "\n",
        "if tiene_masas == 's':\n",
        "  m1_real = float(input('ingrese m1: ')) # en kg\n",
        "  m2_real = float(input('ingrese m2: ')) # en kg\n",
        "\n",
        "else:\n",
        "  pass\n",
        " ####\n",
        "m1_real = 0.89 * 1.998e30\n",
        "m2_real = 0.13 * 1.998e30\n",
        "###\n",
        "tiene_proporcion = input('\\n\\nTiene la proporción entre las masas (s/n): ')\n",
        "\n",
        "if tiene_proporcion == 's':\n",
        "  proporcion = float(input('Ingrese m_1 / m_2: '))\n",
        "  proporcion = 1 / proporcion\n",
        "  m2 = 1 / ((1 / proporcion) + 1)\n",
        "  m1 = 1 - m2\n",
        "\n",
        "else:\n",
        "  proporcion_masas = m2_real / m1_real\n",
        "  m2 = 1 / ((1 / proporcion_masas) + 1)\n",
        "  m1 = 1 - m2\n",
        "\n",
        "print('\\n\\n---> m1 = {}\\n\\n---> m2 = {} \\n\\n'.format(m1,m2))\n",
        "\n",
        "tiene_periodo = input('Tiene el valor del periodo orbital (s/n): ')\n",
        "\n",
        "if tiene_periodo == 's':\n",
        "\n",
        "  T = float(input('ingrese el valor del periodo orbital (en días): '))\n",
        "\n",
        "else:\n",
        "  orbita_sol = input(\"m2 se encuentra orbitando al Sol (s/n): \")\n",
        "\n",
        "  if orbita_sol == 's':\n",
        "    T = (2 * math.pi * pow ((a / 149597870.7e3), (3/2)))/ (0.01720209908 * math.sqrt(1 + (m2 / m1)))\n",
        "\n",
        "  else:\n",
        "    T = ((2 * math.pi * pow(a, (3/2))) / (math.sqrt(6.67e-11*(m1_real + m2_real)))) / 86400\n",
        "\n",
        "t = T / (2 * math.pi)\n",
        "\n",
        "print('\\n\\n---> periodo: T = {} días \\n\\n---> unidad de tiempo (para que G = 1): t = {} días'.format(T, t))\n",
        "\n",
        "x1 = -m2\n",
        "x2 = m1\n",
        "\n",
        "print('\\n\\n---> x1 = {} \\n\\n---> x2 = {}'.format(x1,x2))\n"
      ]
    },
    {
      "cell_type": "code",
      "source": [
        "(360 * 30) / T"
      ],
      "metadata": {
        "colab": {
          "base_uri": "https://localhost:8080/"
        },
        "id": "2PH1L26mhV-h",
        "outputId": "e2c636cb-0e44-4c60-fca9-3f6eaae6f097"
      },
      "execution_count": null,
      "outputs": [
        {
          "output_type": "execute_result",
          "data": {
            "text/plain": [
              "94.37366625865175"
            ]
          },
          "metadata": {},
          "execution_count": 14
        }
      ]
    },
    {
      "cell_type": "code",
      "source": [
        "T"
      ],
      "metadata": {
        "id": "ZLLTD3Gvim31",
        "outputId": "e6e1849c-4c6c-4b14-a21c-ec94e9a6a322",
        "colab": {
          "base_uri": "https://localhost:8080/"
        }
      },
      "execution_count": null,
      "outputs": [
        {
          "output_type": "execute_result",
          "data": {
            "text/plain": [
              "114.43870338151565"
            ]
          },
          "metadata": {},
          "execution_count": 15
        }
      ]
    },
    {
      "cell_type": "code",
      "source": [
        "m = (x1 * a)\n",
        "(m/1000)+ 5550000"
      ],
      "metadata": {
        "colab": {
          "base_uri": "https://localhost:8080/"
        },
        "id": "OBCSuPgPTore",
        "outputId": "262cd4dc-4cf4-4631-b3a4-9b34ef143341"
      },
      "execution_count": null,
      "outputs": [
        {
          "output_type": "execute_result",
          "data": {
            "text/plain": [
              "-3315873.8076617643"
            ]
          },
          "metadata": {},
          "execution_count": 12
        }
      ]
    },
    {
      "cell_type": "code",
      "source": [
        "# UNIDADES UNITARIAS SUPONIENDO EL VALOR DE M2\n",
        "\n",
        "m2 = # en unidades unitarias\n",
        "m1 = 1 - m2\n",
        "x1 = -m2 # posición respecto al CM\n",
        "x2 = m1\n",
        "\n",
        "print('---> m1 = {} \\n---> m2 = {} \\n---> x1 = {} \\n---> x2 = {}'.format(m1, m2, x1, x2))"
      ],
      "metadata": {
        "id": "zt7vwVJqbfDB",
        "outputId": "bf633e6a-a3e4-487d-836a-98b60029f915",
        "colab": {
          "base_uri": "https://localhost:8080/"
        }
      },
      "execution_count": null,
      "outputs": [
        {
          "output_type": "stream",
          "name": "stdout",
          "text": [
            "---> m1 = 0.75 \n",
            "---> m2 = 0.25 \n",
            "---> x1 = -0.25 \n",
            "---> x2 = 0.75\n"
          ]
        }
      ]
    },
    {
      "cell_type": "markdown",
      "source": [
        "# **Puntos de Lagrange**\n",
        "Existen unas soluciones particulares para el problema de los tres cuerpos denominadas los puntos de Lagrange. Aunque, como se dijo reiteradamente en el capítulo anterior, las ecuaciones del problema de los 3 cuerpos no tienen una solución analítica, es posible encontrar algunas soluciones particulares. Son soluciones en el sentido de que, al colocar a la masa $m_3$ en unas posiciones determinadas y otorgarles velocidad cero (con relación\n",
        "a los ejes rotantes) la partícula permanecerá en tales puntos para todo tiempo. Supóngase la existencia de puntos en los cuales al ubicar la masa $m_3$ con respecto a los ejes en rotación, y asignarle una velocidad cero ($\\dot{x}= 0$, $\\dot{y}= 0$), la partícula tampoco estará acelerada en el tiempo ($\\ddot{x} = \\ddot{y}  = 0$) y se ubicará, como si estuviera estática. Pero antes de continuar, haremos un pequeño paréntesis\n",
        "para efectos de colocar la función $U$ en una forma más conveniente utilizando unidades unitarias.\n",
        "\n",
        "\n",
        "\n",
        "> $$U = \\frac{1}{2}(x^2+y^2)+\\frac{m_1}{\\sqrt{(x+m_2)^2+y^2}}+\\frac{m_2}{\\sqrt{(x-1+m_2)^2+y^2}}$$\n",
        "\n",
        "Ahora bien, para facilidad en la realización de ciertas derivadas parciales, colocaremos $x_2 + y_2$ (que está presente en $U$) en términos de ρ1 y ρ2.\n",
        "\n",
        "\n",
        "\n",
        "> $$m_1\\rho_1^2 + m_2\\rho_2^2 = x^2 + y^2 + m_1m_2,$$\n",
        "\n",
        "De este modo:\n",
        "\n",
        "\n",
        "> $$U = \\frac{1}{2}(m_1\\rho_1^2+ m_2\\rho_2^2 − m_1m_2) +\\frac {m_1}\n",
        "{\\rho_1} + \\frac{m_2}{\\rho_2}$$\n",
        "\n",
        "\n"
      ],
      "metadata": {
        "id": "1z8NqCAbhYxL"
      }
    },
    {
      "cell_type": "markdown",
      "source": [
        "Retomando la búsqueda de los puntos de velocidad nula, los cuales, como se ha\n",
        "dicho, han de satisfacer: $\\dot{x} = \\dot{y} = \\ddot{x} = \\ddot{y} = 0 $, las ecuaciones de movimiento en el plano $xy$ en términos de las derivadas parciales de $U$, se reducen a:\n",
        "\n",
        "\n",
        "\n",
        "> $$\\frac{\\partial U}{\\partial x} = 0 \\ \\ \\ \\ \\ \\frac{\\partial U}{\\partial y} = 0$$\n",
        "\n",
        "Estas dos últimas ecuaciones constituyen una forma equivalente de buscar los puntos de velocidad y aceleración nula, pues si ambas se satisfacen simultáneamente, se constituyen en la condición para encontrar puntos con dos tangentes en las regiones de Hill. Es evidente que aquellos puntos en los que, para ciertos valores de $C'$, dos superficies de Hill se tocan, pueden verse como puntos en los que simultáneamente existen dos tangentes: una paralela al eje $x$ y otra paralela al eje $y$.\n",
        "\n",
        "Como $U$ es función de las distancias $\\rho_1$ y $\\rho_2$, las cuales, a su vez, son funciones de $x$ y de $y$, se tiene:\n",
        "\n",
        "\n",
        "\n",
        "> $$\\frac{\\partial{U}}{\\partial{x}} = \\frac{\\partial{U}}{\\partial{\\rho_1}} \\frac{\\partial{\\rho_1}}{\\partial{x}} + \\frac{\\partial{U}}{\\partial{\\rho_2}} \\frac{\\partial{\\rho_2}}{\\partial{x}}=0$$\n",
        "\n",
        "> $$\\frac{\\partial{U}}{\\partial{y}} = \\frac{\\partial{U}}{\\partial{\\rho_1}} \\frac{\\partial{\\rho_1}}{\\partial{y}} + \\frac{\\partial{U}}{\\partial{\\rho_2}} \\frac{\\partial{\\rho_2}}{\\partial{y}}=0$$\n",
        "\n"
      ],
      "metadata": {
        "id": "FuWNnI-NVFjn"
      }
    },
    {
      "cell_type": "markdown",
      "source": [
        "# **Puntos triangulares**\n",
        "\n",
        "Comencemos por hallar aquellos puntos que están ubicados en el plano. Tenemos:\n",
        "\n",
        "\n",
        "> $$\\left(m_1\\rho_1-\\frac{m_1}{\\rho_1^2}\\right)\\frac{x+m_2}{\\rho_1}+\\left(m_2\\rho_2-\\frac{m_2}{\\rho_2^2}\\right)\\frac{x+m_1}{\\rho_2}=0$$\n",
        "\n",
        "De la que se puede inferir que una solución de esta es que satisfaga simultáneamente la condición:\n",
        "\n",
        "\n",
        "> $$\\left(m_1\\rho_1-\\frac{m_1}{\\rho_1^2}\\right)=\\left(m_2\\rho_2-\\frac{m_2}{\\rho_2^2}\\right)= 0$$\n",
        "\n",
        "Y así es inmediato ver que:\n",
        "\n",
        "\n",
        "\n",
        "> $$\\rho_1=\\rho_2=1$$\n",
        "\n",
        "La única configuración para que se cumpla esta igualdad es que la masa $m_3$ ha de estar ocupando un vértice de un triángulo equilátero (ya que la distancia entre las dos masas principales es también igual a uno, en dimensiones unitarias). Por simetría, $m_3$ puede ubicarse adelante de las masas principales, punto que se denomina L4, pero también puede ubicarse atrás, denominado L5.\n",
        "\n",
        "Esto indica que una partícula de masa infinitesimal que se ubica con velocidad cero (con respecto a los ejes rotantes) exactamente en L4 (o en L5) permanecerá indefinidamente $60º$ adelante (o atrás) de la partícula de masa $m_2$. Con relación a los ejes inerciales, se tiene que los puntos L4 y L5 describen, cada uno de ellos, órbitas circulares con respecto al primario invirtiendo el mismo periodo orbital en torno a este que lo que gasta el secundario.\n",
        "\n",
        "\n",
        "Las coordenadas $x$ y $y$ correspondientes a estos puntos pueden calcularse como sigue. Es evidente que las ecuaciones de las distancias quedan en tales puntos como:\n",
        "\n",
        "\n",
        "\n",
        "> $$1=(x+m_2)^2+y^2 \\ \\ \\ (1)$$\n",
        "> $$1=(x-m_1)^2+y^2\\ \\ \\ (2)$$\n",
        "\n",
        "de las que, al multiplicar la primera por $m_1$ y la segunda por $m_2$, recordando que $m_1 + m_2 = 1$:\n",
        "\n",
        "\n",
        "\n",
        "> $$ 1 = x^2 + m_1m_2 + y^2$$\n",
        "\n",
        "Iguañando con $(1)$ y eliminando términos semejantes se obtiene, habiendo colocado $m_1$ en términos de $m_2$:\n",
        "\n",
        "\n",
        "\n",
        "> $$x = \\frac{1}{2} - m_2$$\n",
        "\n",
        "Sumando $(1)$ con $(2)$, factorando y ordenando términos, se llega directamente a:\n",
        "\n",
        "\n",
        "> $$y = \\pm \\frac{\\sqrt{3}}{2}$$\n",
        "\n",
        "Por lo tanto:\n",
        "\n",
        "\n",
        "> $$L_4 = (\\frac{1}{2}-m_2, \\frac{\\sqrt{3}}{2} )$$\n",
        "\n",
        "\n",
        "> $$L_5 = (\\frac{1}{2}-m_2, -\\frac{\\sqrt{3}}{2} )$$\n",
        "\n",
        "\n",
        "\n",
        "\n",
        "\n",
        "\n",
        "\n",
        "\n"
      ],
      "metadata": {
        "id": "s69Rn_VDBqH6"
      }
    },
    {
      "cell_type": "code",
      "source": [
        "l4x = 0.5 - m2\n",
        "l4y = math.sqrt(3) / 2\n",
        "\n",
        "l5x= 0.5 - m2\n",
        "l5y = -math.sqrt(3) / 2\n",
        "\n",
        "print('---> L4 = ({},{}) \\n\\n---> L5 =({},{})'.format(l4x, l4y, l5x, l5y))"
      ],
      "metadata": {
        "colab": {
          "base_uri": "https://localhost:8080/"
        },
        "id": "cfL0ki8Jxf6d",
        "outputId": "5d86bd81-b2bb-4f3a-cffa-448b4e1fa517"
      },
      "execution_count": null,
      "outputs": [
        {
          "output_type": "stream",
          "name": "stdout",
          "text": [
            "---> L4 = (0.37254901960784315,0.8660254037844386) \n",
            "\n",
            "---> L5 =(0.37254901960784315,-0.8660254037844386)\n"
          ]
        }
      ]
    },
    {
      "cell_type": "markdown",
      "source": [
        "# **Puntos colineales**\n",
        "\n",
        "Existen tres de los puntos buscados ubicados sobre el eje $x (y = 0)$. Buscaremos a continuación en qué parte exactamente del eje $x$ se ubican. Primero, se tiene que $y=0$, además:\n",
        "\n",
        "\n",
        "> $$m_1 \\left(1-\\frac{1}{\\rho_1^3}\\right)(x+m_2)+m_2\\left(1-\\frac{1}{\\rho_2^3}\\right)(x-m_1)=0$$\n",
        "\n",
        "la cual, al desarrollar los productos indicados y como los puntos buscados están sobre el eje $x$, $\\rho_1$ y $\\rho_2$ quedan reducidos a $\\rho_1 = x + m_2$ y $\\rho_2 = x − m_1$, y así:\n",
        "\n",
        "> $$-x+\\frac{m_1}{|x+m_2|^3}(x+m_2)+\\frac{m_2}{|x-m_1|^3}(x-m_1)=0$$\n",
        "\n",
        "en donde se ha enfatizado el hecho de que $\\rho_1$ y $\\rho_2$, por ser distancias, son valores positivos. Teniendo en cuenta que $m_1 +m_2 = 1$, la ecuación anterior puede escribirse en términos de un único parámetro, así:\n",
        "\n",
        "\n",
        "\n",
        "> $$-x+\\frac{1-m_2}{|x+m_2|^3}(x+m_2)+\\frac{m_2}{|x-1+m_2|^3}(x-1+m_2)=0$$\n",
        "\n",
        "\n",
        "\n"
      ],
      "metadata": {
        "id": "X1jQJ2vFWbVE"
      }
    },
    {
      "cell_type": "code",
      "source": [
        "# GRÁFICA DE LA FUNCIÓN\n",
        "\n",
        "# Definir la ecuación que representa la función\n",
        "\n",
        "def f(x):\n",
        "    return -x + ((1 - m2) * (x + m2)/ pow(np.abs(x + m2), 3)) + (m2 * (x - 1 + m2)/pow(np.abs(x -1 + m2), 3))\n",
        "\n",
        "# Valores para x\n",
        "xg = np.linspace(-1.5, 1.5, 10000)\n",
        "xminus = np.linspace(-1.5, 0, 10000)\n",
        "xplus = np.linspace(0., 1.5, 10000)\n",
        "\n",
        "\n",
        "# Calcular los valores de f(x)\n",
        "yg = f(xg)\n",
        "yminus = f(xminus)\n",
        "yplus = f(xplus)\n",
        "\n",
        "# Crear la figura y los subplots\n",
        "fig, axs = plt.subplots(1, 3, figsize=(12, 4))\n",
        "\n",
        "# Gráfico general\n",
        "axs[0].plot(xg, yg)\n",
        "axs[0].set_ylim(-1,1)\n",
        "axs[0].set_xlabel('x')\n",
        "axs[0].set_ylabel('f(x)')\n",
        "axs[0].set_title('Gráfico general')\n",
        "axs[0].grid(True)\n",
        "\n",
        "axs[0].plot(x1, 0, 'bo', markersize=4)  # Marcar el punto\n",
        "axs[0].annotate('m1', (x1, 0), textcoords=\"offset points\", xytext=(-10,-10), ha='center', fontsize=10)\n",
        "\n",
        "axs[0].plot(x2, 0, 'bo', markersize=4)  # Marcar el punto\n",
        "axs[0].annotate('m2', (x2, 0), textcoords=\"offset points\", xytext=(-10,-10), ha='center', fontsize=10)\n",
        "\n",
        "axs[0].plot(l4x, l4y, 'ro', markersize=8)  # Marcar el punto\n",
        "axs[0].annotate('L4', (l4x, l4y), textcoords=\"offset points\", xytext=(-10,-10), ha='center', fontsize=10)\n",
        "\n",
        "axs[0].plot(l5x, l5y, 'ro', markersize=8)  # Marcar el punto\n",
        "axs[0].annotate('L5', (l5x, l5y), textcoords=\"offset points\", xytext=(-10,-10), ha='center', fontsize=10)\n",
        "\n",
        "# Gráfico cercano a -1\n",
        "axs[1].plot(xminus, yminus)\n",
        "axs[1].set_ylim(-0.2,0.2)\n",
        "axs[1].set_xlabel('x')\n",
        "axs[1].set_ylabel('f(x)')\n",
        "axs[1].set_title('Cercano a -1')\n",
        "\n",
        "axs[1].grid(True)\n",
        "\n",
        "# Gráfico cercano a 1\n",
        "axs[2].plot(xplus, yplus)\n",
        "axs[2].set_ylim(-0.2, 0.2)\n",
        "axs[2].set_xlabel('x')\n",
        "axs[2].set_ylabel('f(x)')\n",
        "axs[2].set_title('Cercano a 1')\n",
        "axs[2].grid(True)\n",
        "\n",
        "plt.tight_layout()\n",
        "plt.show()\n",
        "\n"
      ],
      "metadata": {
        "colab": {
          "base_uri": "https://localhost:8080/",
          "height": 407
        },
        "id": "WBZTQKPvyS4s",
        "outputId": "65c00985-11e1-481c-a541-bc02edc35eb8"
      },
      "execution_count": null,
      "outputs": [
        {
          "output_type": "display_data",
          "data": {
            "text/plain": [
              "<Figure size 1200x400 with 3 Axes>"
            ],
            "image/png": "[encoded data removed]"
          },
          "metadata": {}
        }
      ]
    },
    {
      "cell_type": "code",
      "source": [
        "# SOLUCIÓN DE LA ECUACIÓN\n",
        "def ecuacion(x):\n",
        "    return -x + ((1 - m2) * (x + m2) / np.abs(x + m2)**3) + (m2 * (x - 1 + m2)/ np.abs(x - 1 + m2)**3)\n",
        "# Encontrar las tres soluciones DE ACUERDO CON EL GRÁFICO cambiar los parámetros para hallar las soluciones\n",
        "solucion_1 = bisect(ecuacion, -10, -1.0)\n",
        "solucion_2 = bisect(ecuacion, 0.1,0.5)\n",
        "solucion_3 = bisect(ecuacion, 1.2, 1.4)\n",
        "\n",
        "# Imprimir las soluciones\n",
        "print('---> L3 = {}\\n\\n---> L1 = {}\\n\\n---> L2 = {}'.format(solucion_1, solucion_2, solucion_3))"
      ],
      "metadata": {
        "colab": {
          "base_uri": "https://localhost:8080/"
        },
        "id": "rAWWyTljp_P6",
        "outputId": "eba15e8f-6e93-423a-a4d1-c6bb3ec4be97"
      },
      "execution_count": null,
      "outputs": [
        {
          "output_type": "stream",
          "name": "stdout",
          "text": [
            "---> L3 = -1.1031668488222977\n",
            "\n",
            "---> L1 = 0.36074342836654977\n",
            "\n",
            "---> L2 = 1.2658581025098103\n"
          ]
        }
      ]
    },
    {
      "cell_type": "code",
      "source": [
        "# Crear la figura y los subplots\n",
        "fig, axs = plt.subplots(1, 2, figsize=(12, 4))\n",
        "\n",
        "# Gráfico cercano a -1\n",
        "axs[0].plot(xminus, yminus)\n",
        "axs[0].set_ylim(-0.2,0.2)\n",
        "axs[0].set_xlim(-1.2,-0.1)\n",
        "axs[0].set_xlabel('x')\n",
        "axs[0].set_ylabel('f(x)')\n",
        "axs[0].set_title('Cercano a -1')\n",
        "\n",
        "axs[0].plot(solucion_1, 0, 'ro', markersize=8)  # Marcar el punto\n",
        "axs[0].annotate('L3', (solucion_1, 0), textcoords=\"offset points\", xytext=(-10,-10), ha='center', fontsize=10)\n",
        "\n",
        "axs[0].plot(solucion_2, 0, 'ro', markersize=8)  # Marcar el punto\n",
        "axs[0].annotate('L1', (solucion_2, 0), textcoords=\"offset points\", xytext=(-10,-10), ha='center', fontsize=10)\n",
        "\n",
        "axs[0].plot(solucion_3, 0, 'ro', markersize=8)  # Marcar el punto\n",
        "axs[0].annotate('L2', (solucion_3, 0), textcoords=\"offset points\", xytext=(-10,-10), ha='center', fontsize=10)\n",
        "\n",
        "axs[0].plot(x1, 0, 'bo', markersize=4)  # Marcar el punto\n",
        "axs[0].annotate('m1', (x1, 0), textcoords=\"offset points\", xytext=(-10,-10), ha='center', fontsize=10)\n",
        "\n",
        "axs[0].plot(l4x, l4y, 'ro', markersize=8)  # Marcar el punto\n",
        "axs[0].annotate('L4', (l4x, l4y), textcoords=\"offset points\", xytext=(-10,-10), ha='center', fontsize=10)\n",
        "\n",
        "axs[0].plot(l5x, l5y, 'ro', markersize=8)  # Marcar el punto\n",
        "axs[0].annotate('L5', (l5x, l5y), textcoords=\"offset points\", xytext=(-10,-10), ha='center', fontsize=10)\n",
        "\n",
        "\n",
        "axs[0].grid(True)\n",
        "\n",
        "# Gráfico cercano a 1\n",
        "axs[1].plot(xplus, yplus)\n",
        "axs[1].set_xlim(0.0,1.4)\n",
        "axs[1].set_ylim(-1, 1)\n",
        "axs[1].set_xlabel('x')\n",
        "axs[1].set_ylabel('f(x)')\n",
        "axs[1].set_title('Cercano a 1')\n",
        "axs[1].grid(True)\n",
        "\n",
        "axs[1].plot(solucion_1, 0, 'ro', markersize=8)  # Marcar el punto\n",
        "axs[1].annotate('L3', (solucion_1, 0), textcoords=\"offset points\", xytext=(-10,-10), ha='center', fontsize=10)\n",
        "\n",
        "axs[1].plot(solucion_2, 0, 'ro', markersize=8)  # Marcar el punto\n",
        "axs[1].annotate('L1', (solucion_2, 0), textcoords=\"offset points\", xytext=(-15,-5), ha='center', fontsize=10)\n",
        "\n",
        "axs[1].plot(solucion_3, 0, 'ro', markersize=8)  # Marcar el punto\n",
        "axs[1].annotate('L2', (solucion_3, 0), textcoords=\"offset points\", xytext=(15,-5), ha='center', fontsize=10)\n",
        "\n",
        "axs[1].plot(x2, 0, 'bo', markersize=4)  # Marcar el punto\n",
        "axs[1].annotate('m2', (x2, 0), textcoords=\"offset points\", xytext=(-10,-10), ha='center', fontsize=10)\n",
        "\n",
        "axs[1].plot(l4x, l4y, 'ro', markersize=8)  # Marcar el punto\n",
        "axs[1].annotate('L4', (l4x, l4y), textcoords=\"offset points\", xytext=(-10,-10), ha='center', fontsize=10)\n",
        "\n",
        "axs[1].plot(l5x, l5y, 'ro', markersize=8)  # Marcar el punto\n",
        "axs[1].annotate('L5', (l5x, l5y), textcoords=\"offset points\", xytext=(-10,-10), ha='center', fontsize=10)\n",
        "\n",
        "\n",
        "\n",
        "plt.tight_layout()\n",
        "plt.show()\n"
      ],
      "metadata": {
        "colab": {
          "base_uri": "https://localhost:8080/",
          "height": 407
        },
        "outputId": "11eccf5f-f389-42b0-cba9-ea0581b34b80",
        "id": "TELhbIS_fnh6"
      },
      "execution_count": null,
      "outputs": [
        {
          "output_type": "display_data",
          "data": {
            "text/plain": [
              "<Figure size 1200x400 with 2 Axes>"
            ],
            "image/png": "[encoded data removed]"
          },
          "metadata": {}
        }
      ]
    }
  ]
}