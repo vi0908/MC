{
  "nbformat": 4,
  "nbformat_minor": 0,
  "metadata": {
    "colab": {
      "provenance": [],
      "authorship_tag": "ABX9TyNJDcw+++SvO6LZ5Iq81U0Z",
      "include_colab_link": true
    },
    "kernelspec": {
      "name": "python3",
      "display_name": "Python 3"
    },
    "language_info": {
      "name": "python"
    }
  },
  "cells": [
    {
      "cell_type": "markdown",
      "metadata": {
        "id": "view-in-github",
        "colab_type": "text"
      },
      "source": [
        "<a href=\"https://colab.research.google.com/github/vi0908/MC/blob/main/theta_radiov_el%C3%ADptica.ipynb\" target=\"_parent\"><img src=\"https://colab.research.google.com/assets/colab-badge.svg\" alt=\"Open In Colab\"/></a>"
      ]
    },
    {
      "cell_type": "markdown",
      "source": [
        "# ***CÁLCULO DE LA ANOMALÍA VERDADERA Y RADIO VECTOR DE UN CUERPO CELESTE EN ÓRBITA ELÍPTICA***\n",
        "\n"
      ],
      "metadata": {
        "id": "pmJjVtrC3rss"
      }
    },
    {
      "cell_type": "code",
      "source": [
        "import datetime\n",
        "import math"
      ],
      "metadata": {
        "id": "CW1CZQ0IKTJC"
      },
      "execution_count": null,
      "outputs": []
    },
    {
      "cell_type": "code",
      "source": [
        "# DATOS\n",
        "a = 2.6785123 # en u.a\n",
        "e = 0.2543422\n",
        "t_0 = 2453916.5 #tiempo de paso por el perihelio\n",
        "epoca = 0 #fecha juliana\n",
        "jd = 2453860.5 #fecha juliana de la fecha en cuestión\n",
        "Mr = 0 # en grados"
      ],
      "metadata": {
        "id": "3ywNR2SUIrHQ"
      },
      "execution_count": null,
      "outputs": []
    },
    {
      "cell_type": "markdown",
      "source": [
        "# ***FECHA JULIANA***"
      ],
      "metadata": {
        "id": "Y6llBzRlG2i8"
      }
    },
    {
      "cell_type": "code",
      "source": [
        "# FUNCIÓN PARA LA FECHA JULIANA\n",
        "def fecha_juliana(fecha):\n",
        "    year = fecha.year\n",
        "    month = fecha.month\n",
        "    day = fecha.day\n",
        "    hora = fecha.hour\n",
        "    minuto = fecha.minute\n",
        "    segundo = fecha.second\n",
        "\n",
        "    a = int((14 - month) / 12)\n",
        "    y = year + 4800 - a\n",
        "    m = month + 12 * a - 3\n",
        "\n",
        "    # Calcula la fecha Juliana\n",
        "    jdn = day + int((153 * m + 2) / 5) + 365 * y + int(y / 4) - int(y / 100) + int(y / 400) - 32045\n",
        "\n",
        "    # Agrega la fracción del día\n",
        "    fraccion = (hora - 12) / 24 + minuto / 1440 + segundo / 86400\n",
        "    jd = jdn + fraccion\n",
        "\n",
        "    return jd\n",
        "\n",
        "\n",
        "\"\"\" ÉPOCA \"\"\"\n",
        "tiene_fecha_juliana_epoca = input(\"\\n¿Tiene la fecha juliana de la época en cuestión? (s/n): \")\n",
        "\n",
        "if tiene_fecha_juliana_epoca == \"s\":\n",
        "    # Si tiene la fecha juliana, epoca\n",
        "    print('\\n* época = {}'.format(epoca))\n",
        "\n",
        "else:\n",
        "    # Si no tiene la fecha juliana, pedirle los datos necesarios\n",
        "    año_r = int(input(\"\\naño de referencia = \"))\n",
        "    mes_r = int(input(\"\\nmes de referencia = \"))\n",
        "    dia_r = int(input(\"\\ndía de referencia = \"))\n",
        "    hora_r = int(input(\"\\nhora de referencia = \"))\n",
        "    minuto_r = int(input(\"\\nminuto de referencia = \"))\n",
        "    segundo_r = int(input(\"\\nsegundo de referencia = \"))\n",
        "    fecha_epoca = datetime.datetime(año_r, mes_r, dia_r, hora_r, minuto_r, segundo_r)\n",
        "    epoca = fecha_juliana(fecha_epoca)\n",
        "    print('\\n* época = {}'.format(epoca))\n",
        "\n",
        "\"\"\" FECHA EN CUESTIÓN \"\"\"\n",
        "\n",
        "tiene_fecha_juliana= input(\"\\n¿Tiene la fecha juliana del momento para el que busca hallar las variables? (s/n): \")\n",
        "\n",
        "if tiene_fecha_juliana == \"s\":\n",
        "    # Si tiene la fecha juliana, fecha\n",
        "    print('\\n* fecha = {}'.format(jd))\n",
        "\n",
        "else:\n",
        "    # Si no tiene la fecha juliana, pedirle los datos necesarios\n",
        "    año = input(\"\\naño = \")\n",
        "    mes = input(\"\\nmes = \")\n",
        "    dia = input(\"\\ndía = \")\n",
        "    hora = input(\"\\nhora = \")\n",
        "    minuto = input(\"\\nminuto = \")\n",
        "    segundo = input(\"\\nsegundo = \")\n",
        "    fecha = datetime.datetime(int(año), int(mes), int(dia), int(hora), int(minuto), int(segundo))\n",
        "    jd = fecha_juliana(fecha)\n",
        "    print('\\n* fecha = {}'.format(jd))\n",
        "\n",
        "print('\\n* t - t_r = {} - {} = {}'.format(jd,epoca, jd - epoca))"
      ],
      "metadata": {
        "id": "D11xBMd5HR0E",
        "colab": {
          "base_uri": "https://localhost:8080/"
        },
        "outputId": "31589ed8-64e0-4b20-98a6-b58d979ec46d"
      },
      "execution_count": null,
      "outputs": [
        {
          "output_type": "stream",
          "name": "stdout",
          "text": [
            "\n",
            "¿Tiene la fecha juliana de la época en cuestión? (s/n): N\n",
            "\n",
            "año de referencia = 2006\n",
            "\n",
            "mes de referencia = 6\n",
            "\n",
            "día de referencia = 30\n",
            "\n",
            "hora de referencia = 0\n",
            "\n",
            "minuto de referencia = 0\n",
            "\n",
            "segundo de referencia = 0\n",
            "\n",
            "* época = 2453916.5\n",
            "\n",
            "¿Tiene la fecha juliana del momento para el que busca hallar las variables? (s/n): n\n",
            "\n",
            "año = 2006\n",
            "\n",
            "mes = 5\n",
            "\n",
            "día = 5\n",
            "\n",
            "hora = 0\n",
            "\n",
            "minuto = 0\n",
            "\n",
            "segundo = 0\n",
            "\n",
            "* fecha = 2453860.5\n",
            "\n",
            "* t - t_r = 2453860.5 - 2453916.5 = -56.0\n"
          ]
        }
      ]
    },
    {
      "cell_type": "markdown",
      "source": [
        "# ***MOVIMIENTO MEDIO (n)***"
      ],
      "metadata": {
        "id": "qQO9rSRzHFTC"
      }
    },
    {
      "cell_type": "code",
      "source": [
        "# FUNCIONES PARA EL MOV. MEDIO\n",
        "\n",
        "def n_sol(longitud_eje_mayor,proporcion):\n",
        "\n",
        "    \"\"\" Calcula el movimiento medio EN GRADOS de un objeto celeste ORBITANDO EL SOL\n",
        "        ---> La proporción es m2 / m_sol\"\"\"\n",
        "    n = (180/math.pi) * 0.01720209908 * (math.sqrt(1+proporcion)) / a**(3/2)\n",
        "    return n\n",
        "\n",
        "def n_masadespreciable_sol(longitud_eje_mayor):\n",
        "\n",
        "    \"\"\" Calcula el movimiento medio EN GRADOS de un objeto celeste de MASA DESPRECIABLE ORBITANDO EL SOL\"\"\"\n",
        "\n",
        "    n = (180/math.pi) * 0.01720209908 / longitud_eje_mayor**(3/2)\n",
        "    return n\n",
        "\n",
        "def n_general(longitud_eje_mayor, m1, m2):\n",
        "\n",
        "    \"\"\" Calcula el movimiento medio EN GRADOS de un objeto celeste m2 ORBITANDO m1\"\"\"\n",
        "    n = (180/math.pi) * math.sqrt((6.67e-11 * (86400**2) / (149597870.7e3)**3))* (m1+ m2) / longitud_eje_mayor**(3/2)\n",
        "    return n\n",
        "\n",
        "\n",
        "\n",
        "mov_medio_sol = input(\"\\n¿El cuerpo celeste se encuentra orbitando al Sol? (s/n): \")\n",
        "\n",
        "if mov_medio_sol == \"s\":\n",
        "    masa_despreciable = input(\"\\n¿Puede considerarse de masa despreciable? (s/n): \")\n",
        "    if masa_despreciable == \"s\":\n",
        "        n = n_masadespreciable_sol(a)\n",
        "        print(\"\\n---> Movimiento medio: n = {} º/d\".format(n))\n",
        "\n",
        "    else:\n",
        "        datos = int(input(\"\\n¿Qué datos tiene?:\\n\\n  m2 / m_Sol (1) \\n\\n  m_Sol / m2 (2)\\n \"))\n",
        "        if datos == 1:\n",
        "            proporcion = float(input(\"\\nIngrese m2 / m_Sol: \"))\n",
        "            n = n_sol(a, proporcion)\n",
        "            print(\"\\n---> Movimiento medio: n = {} º/d\".format(n))\n",
        "        else:\n",
        "            p = float(input(\"\\nIngrese m_Sol / m2: \"))\n",
        "            proporcion = 1/p\n",
        "            n = round(n_sol(a, proporcion), 7)\n",
        "            print(\"\\n---> Movimiento medio: n = {} º/d\".format(n))\n",
        "\n",
        "else:\n",
        "    m1 = float(input(\"\\ningrese el valor de m1: \"))\n",
        "    m2 = float(input(\"\\ningrese el valor de m2: \"))\n",
        "    n = n_general(a, m1, m2)\n",
        "    print(\"\\n---> Movimiento medio: n = {} º/d\".format(n))"
      ],
      "metadata": {
        "id": "dFlLbCAOIZ_5",
        "colab": {
          "base_uri": "https://localhost:8080/"
        },
        "outputId": "17c10679-ecdb-486e-fa53-2f3c425c0eb0"
      },
      "execution_count": null,
      "outputs": [
        {
          "output_type": "stream",
          "name": "stdout",
          "text": [
            "\n",
            "¿El cuerpo celeste se encuentra orbitando al Sol? (s/n): s\n",
            "\n",
            "¿Puede considerarse de masa despreciable? (s/n): s\n",
            "\n",
            "---> Movimiento medio: n = 0.22483484001242363 º/d\n"
          ]
        }
      ]
    },
    {
      "cell_type": "markdown",
      "source": [
        "![relacion_geometrica_E_M.png](data:image/png;base64,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)"
      ],
      "metadata": {
        "id": "PfIK8PLQGNcy"
      }
    },
    {
      "cell_type": "markdown",
      "source": [
        "# ***ANOMALÍA MEDIA (M):***\n",
        "\n",
        "\n",
        "> Generalmente no se aplica el criterio del cuadrante (?).\n",
        "\n",
        "\n",
        "---\n",
        "\n",
        "La anomalía media es un ángulo que es función lineal del tiempo y que puede interpretarse como aquel ángulo que indica la posición con respecto al pericentro de un objeto moviéndose sobre la circunferencia (circunscrita en la elipse que representa a la órbita del cuerpo celeste) con velocidad angular constante $n$.\n",
        "\n",
        "La constante $t_{0}$ (tiempo de paso por el perihelio) que se encontró para un punto específico de la órbita, a saber, para$M = E = \\theta = 0$ y $r = q$ (el pericentro), es equivalente a dar un valor arbitrario de\n",
        "$t$ (llamado $t_r$) para el cual se conoce su correspondiente valor de radio vector o las anomalías correspondientes, o sea, de $r_{r}$ o de $M_{r}$, $E_{r}$ o $\\theta_{r}$.\n",
        "\n"
      ],
      "metadata": {
        "id": "V7K0UbxyDLAP"
      }
    },
    {
      "cell_type": "code",
      "source": [
        "# ANOMALÍA MEDIA A PARTIR DE UN TIEMPO DE REFERENCIA\n",
        "M = n * (jd - epoca) + Mr\n",
        "if M > 360:\n",
        "    M = M - 360 * math.floor(M/360)\n",
        "    print('\\n---> Anomalía media: M = {}º\\n'.format(M))\n",
        "else:\n",
        "    print('\\n---> Anomalía media: M = {}º\\n'.format(M))\n",
        "\n"
      ],
      "metadata": {
        "id": "ukFTvvs4K3w3"
      },
      "execution_count": null,
      "outputs": []
    },
    {
      "cell_type": "code",
      "source": [
        "# ANOMALÍA MEDIA A PARTIR DEL TIEMPO DE PASO POR EL PERIHELIO:\n",
        "\n",
        "M = n * (jd - t_0)\n",
        "\n",
        "\n",
        "if M > 360:\n",
        "    M = M - 360 * math.floor(M/360)\n",
        "    print('\\n---> Anomalía media: M = {}º\\n'.format(M))\n",
        "else:\n",
        "    print('\\n---> Anomalía media: M = {}º\\n'.format(M))\n",
        "\n",
        "M\n"
      ],
      "metadata": {
        "colab": {
          "base_uri": "https://localhost:8080/"
        },
        "id": "I8LpsW5N72Fr",
        "outputId": "5007db87-f0c7-493a-a97d-2dff8bff149f"
      },
      "execution_count": null,
      "outputs": [
        {
          "output_type": "stream",
          "name": "stdout",
          "text": [
            "\n",
            "---> Anomalía media: M = -12.590751040695723º\n",
            "\n"
          ]
        },
        {
          "output_type": "execute_result",
          "data": {
            "text/plain": [
              "-12.590751040695723"
            ]
          },
          "metadata": {},
          "execution_count": 4
        }
      ]
    },
    {
      "cell_type": "markdown",
      "source": [
        "# **CÁLCULO DEL TIEMPO DE PASO POR EL PERIHELIO ($t_0$)**\n",
        "\n",
        "Este elemento orbital se determina a partir de la ecuación de Kepler. Como $r_1 = a(1-e\\cos{E_1})$, entonces $E_1 = \\arccos{\\frac{a-r_1}{ae}}$. A la anomalía excéntrica se le debe aplicar el criterio del cuadrante para establecer su valor correcto, luego, para hallar la anomalía media ($M_r$) NO SE NECESITA APLICAR EL CRITERIO DEL CUADRANTE."
      ],
      "metadata": {
        "id": "ep65LQKSX68S"
      }
    },
    {
      "cell_type": "markdown",
      "source": [
        "\n",
        "\n",
        "> $$M_r = E-e\\left(\\frac{180}{\\pi}\\right)sin(E)$$\n",
        "\n"
      ],
      "metadata": {
        "id": "02dEUFpXPVJ4"
      }
    },
    {
      "cell_type": "code",
      "source": [
        "# ANOMALÍA MEDIA (DE REFERENCIA) A PARTIR DE LA ANOMALÍA EXCÉNTRICA\n",
        "\n",
        "Mr = E - e * math.degrees((math.sin(math.radians(E))))\n",
        "\n",
        "if Mr < 0:\n",
        "    Mr = 360 + Mr\n",
        "\n",
        "if Mr > 360:\n",
        "    Mr = Mr - 360 * math.floor(Mr / 360)\n",
        "\n",
        "\n",
        "print('\\n---> Anomalía media de referencia: Mr = {}º\\n'.format(Mr))\n"
      ],
      "metadata": {
        "colab": {
          "base_uri": "https://localhost:8080/",
          "height": 232
        },
        "id": "b6q7ZpLIO6fH",
        "outputId": "142878b9-4423-4798-c62c-4d95341bdeb0"
      },
      "execution_count": null,
      "outputs": [
        {
          "output_type": "error",
          "ename": "NameError",
          "evalue": "ignored",
          "traceback": [
            "\u001b[0;31m---------------------------------------------------------------------------\u001b[0m",
            "\u001b[0;31mNameError\u001b[0m                                 Traceback (most recent call last)",
            "\u001b[0;32m<ipython-input-5-49b25be64ef6>\u001b[0m in \u001b[0;36m<cell line: 3>\u001b[0;34m()\u001b[0m\n\u001b[1;32m      1\u001b[0m \u001b[0;31m# ANOMALÍA MEDIA (DE REFERENCIA) A PARTIR DE LA ANOMALÍA EXCÉNTRICA\u001b[0m\u001b[0;34m\u001b[0m\u001b[0;34m\u001b[0m\u001b[0m\n\u001b[1;32m      2\u001b[0m \u001b[0;34m\u001b[0m\u001b[0m\n\u001b[0;32m----> 3\u001b[0;31m \u001b[0mMr\u001b[0m \u001b[0;34m=\u001b[0m \u001b[0mE\u001b[0m \u001b[0;34m-\u001b[0m \u001b[0me\u001b[0m \u001b[0;34m*\u001b[0m \u001b[0mmath\u001b[0m\u001b[0;34m.\u001b[0m\u001b[0mdegrees\u001b[0m\u001b[0;34m(\u001b[0m\u001b[0;34m(\u001b[0m\u001b[0mmath\u001b[0m\u001b[0;34m.\u001b[0m\u001b[0msin\u001b[0m\u001b[0;34m(\u001b[0m\u001b[0mmath\u001b[0m\u001b[0;34m.\u001b[0m\u001b[0mradians\u001b[0m\u001b[0;34m(\u001b[0m\u001b[0mE\u001b[0m\u001b[0;34m)\u001b[0m\u001b[0;34m)\u001b[0m\u001b[0;34m)\u001b[0m\u001b[0;34m)\u001b[0m\u001b[0;34m\u001b[0m\u001b[0;34m\u001b[0m\u001b[0m\n\u001b[0m\u001b[1;32m      4\u001b[0m \u001b[0;34m\u001b[0m\u001b[0m\n\u001b[1;32m      5\u001b[0m \u001b[0;32mif\u001b[0m \u001b[0mMr\u001b[0m \u001b[0;34m<\u001b[0m \u001b[0;36m0\u001b[0m\u001b[0;34m:\u001b[0m\u001b[0;34m\u001b[0m\u001b[0;34m\u001b[0m\u001b[0m\n",
            "\u001b[0;31mNameError\u001b[0m: name 'E' is not defined"
          ]
        }
      ]
    },
    {
      "cell_type": "markdown",
      "source": [
        "Ya teniendo la anomalía media de referencia, es posible calcular el tiempo de paso por el perihelio:\n",
        "\n",
        "\n",
        "> $$t_0 = t_1-\\frac{ Mr}{n}$$\n",
        "\n"
      ],
      "metadata": {
        "id": "EwCBbc34aaOx"
      }
    },
    {
      "cell_type": "code",
      "source": [
        "# CÁLCULO DEL TIEMPO DE PASO POR EL PERIHELIO A PARTIR DE LA ANOMALIA MEDIA DE REFERENCIA\n",
        "\n",
        "t_0 = jd - (Mr / n)\n",
        "\n",
        "print('---> Tiempo de paso por el perihelio: t_0 = {}'.format(t_0))"
      ],
      "metadata": {
        "id": "6DMgh-Y9aWFR",
        "colab": {
          "base_uri": "https://localhost:8080/"
        },
        "outputId": "58dfa2f6-1913-4807-c772-63ca7c08e1af"
      },
      "execution_count": null,
      "outputs": [
        {
          "output_type": "stream",
          "name": "stdout",
          "text": [
            "---> Tiempo de paso por el perihelio: t_0 = 2452935.7480502855\n"
          ]
        }
      ]
    },
    {
      "cell_type": "markdown",
      "source": [
        "# ***ANOMALÍA EXCÉNTRICA (E):***\n",
        "\n",
        "\n",
        "> Puede tomar dos valores, por lo que es importante tener presentre el valor de $\\dot{r}$ para establecer el correcto.\n",
        "\n",
        "\n",
        "\n",
        "---\n",
        "\n",
        "$E$ corresponde al valor de la anomalía excéntrica que es el ángulo medido desde el centro de la elipse, que forma la proyección del planeta sobre la circunferencia principal y el eje de la elipse (línea de las ápsides).\n",
        "\n",
        "> $$ E-e\\sin(E)=n(t-tr)+M_r \\\\E-e\\sin(E)=M$$\n",
        "\n",
        "\n",
        "\n",
        "\n",
        "\n",
        "La ecuación es trascendente en la variable $E$, por lo que se necesitan de métodos numéricos para resolverla.\n",
        "\n",
        "\n"
      ],
      "metadata": {
        "id": "glV5slO63_NS"
      }
    },
    {
      "cell_type": "markdown",
      "source": [
        "$E$ puede hallarse iterando la ecuación. $M $ está en unidades de grados, se busca obtener $E$ en las mismas unidades. Como primera aproximación se asume que:\n",
        "\n",
        "\n",
        "> $$E_{0} = M$$\n",
        "\n",
        "entonces:\n",
        "\n",
        "\n",
        "> $$E_1=M+(180/\\pi)e\\sin{M}\\\\ E_2=M+(180/\\pi)e\\sin{E_1}\\\\...\\\\ E_n=M+(180/\\pi)e\\sin{E_{n-1}}$$\n",
        "\n",
        "por lo tanto, dependiendo del valor de $\\dot{r}$:\n",
        "\n",
        "$$ \\dot{r} > 0→ E = E_n \\ \\ \\ \\ \\lor \\ \\ \\ \\ \\dot{r} < 0 → E= 360º-E_n$$\n",
        "\n"
      ],
      "metadata": {
        "id": "gfUWjzpW8npZ"
      }
    },
    {
      "cell_type": "code",
      "source": [
        "# CÁLCULO DE LA ANOMALÍA EXCÉNTRICA A PARTIR DE LA ANOMALÍA MEDIA\n",
        "\n",
        "\n",
        "def anomalia_excentrica (anomalia_media, excentricidad):\n",
        "    # Si el resultado debe estar en radianes: (No olvidar modificar el loop también)\n",
        "    # anomalia_media = math.radians(anomalia_media)\n",
        "\n",
        "    delta = 0.0000001\n",
        "    E0 = anomalia_media\n",
        "    i = 0\n",
        "\n",
        "    while abs(delta) > 1e-8 and i < 1000:\n",
        "        E1 = anomalia_media +  (180.0/math.pi)* excentricidad * math.sin((math.pi/180)*E0)\n",
        "        delta = E1 - E0\n",
        "        E0 = E1\n",
        "        i += 1\n",
        "\n",
        "    return E0\n",
        "\n",
        "E = anomalia_excentrica(M,e)\n",
        "\n",
        "print('---> Anomalía excéntrica: E = {}º\\n'.format(E))\n"
      ],
      "metadata": {
        "colab": {
          "base_uri": "https://localhost:8080/"
        },
        "id": "fa3DE3spLDJO",
        "outputId": "d017e7a0-7ae4-45c7-8cec-a7c8650b2131"
      },
      "execution_count": null,
      "outputs": [
        {
          "output_type": "stream",
          "name": "stdout",
          "text": [
            "---> Anomalía excéntrica: E = -16.803614876010695º\n",
            "\n"
          ]
        }
      ]
    },
    {
      "cell_type": "markdown",
      "source": [
        "Otras dos fórmulas que nos permiten encontrar los valores de anomalía excéntrica corresponden a:\n",
        "\n",
        "\n",
        "> $$\\tan\\left({\\frac{E}{2}}\\right)=\\tan\\left({\\frac{\\theta}{2}}\\right)\\sqrt{\\frac{1-e}{1+e}}$$\n"
      ],
      "metadata": {
        "id": "oE-3xZ2Q9Ec9"
      }
    },
    {
      "cell_type": "code",
      "source": [
        "# CÁLCULO DE LA ANOMALÍA EXCÉNTRICA (E) EN GRADOS CONOCIENDO LA ANOMALÍA VERDADERA (VALOR CORRECTO) Y EXCENTRICIDAD\n",
        "\n",
        "E = (180/math.pi)* 2 * math.atan(math.tan((math.pi / 180) * anomalia_verdadera / 2) * math.sqrt((1 - e) / (1 + e)))\n",
        "\n",
        "if E < 0:\n",
        "    E = 360 + E\n",
        "\n",
        "if E > 360:\n",
        "    E = E - 360 * math.floor(E / 360)\n",
        "\n",
        "print('\\n---> Anomalía excéntrica: E = {}º\\n'.format(E))"
      ],
      "metadata": {
        "colab": {
          "base_uri": "https://localhost:8080/"
        },
        "id": "vPEwWOgdShYv",
        "outputId": "4d31632b-a873-4113-f174-272904a8d9d8"
      },
      "execution_count": null,
      "outputs": [
        {
          "output_type": "stream",
          "name": "stdout",
          "text": [
            "\n",
            "---> Anomalía excéntrica: E = 277.1876253249031º\n",
            "\n"
          ]
        }
      ]
    },
    {
      "cell_type": "markdown",
      "source": [
        "> $$E=\\arccos\\left({\\frac{a-r}{ae}}\\right)$$"
      ],
      "metadata": {
        "id": "Le8XIsbSSlIV"
      }
    },
    {
      "cell_type": "code",
      "source": [
        "# CÁLCULO DE LA ANOMALÍA EXCÉNTRICA (E) EN GRADOS CONOCIENDO EL SEMIEJE MAYOR, R Y EXCENTRICIDAD (PUEDE TOMAR DOS VALORES)\n",
        "\n",
        "E = (180/math.pi) * math.acos((a - r) / (a * e))\n",
        "\n",
        "if E < 0:\n",
        "    E = 360 + E\n",
        "\n",
        "if E > 360:\n",
        "    E = E - 360 * math.floor(E / 360)\n",
        "\n",
        "r_punto = input('¿r punto es mayor que cero? (s/n): ')\n",
        "\n",
        "if r_punto == \"s\":\n",
        "  print('\\n---> Anomalía excéntrica: E = {}º\\n'.format(E))\n",
        "else:\n",
        "  E = 360 - E\n",
        "  print('\\n---> Anomalía excéntrica: E = {}º\\n'.format(E))"
      ],
      "metadata": {
        "colab": {
          "base_uri": "https://localhost:8080/"
        },
        "id": "-KgazV1wVnGn",
        "outputId": "bad6886b-ca80-41ef-d972-9d6add16bc87"
      },
      "execution_count": null,
      "outputs": [
        {
          "output_type": "stream",
          "name": "stdout",
          "text": [
            "¿r punto es mayor que cero? (s/n): n\n",
            "\n",
            "---> Anomalía excéntrica: E = 277.1876253249031º\n",
            "\n"
          ]
        }
      ]
    },
    {
      "cell_type": "markdown",
      "source": [
        "# ***ANOMALÍA VERDADERA ($\\theta$):***\n",
        "\n",
        "\n",
        "\n",
        "> Puede tomar dos valores, por lo que es importante tener presentre el valor de $\\dot{r}$ para establecer el correcto.\n",
        "\n",
        "\n",
        "---\n",
        "El ángulo $\\theta$ que se introdujo como la coordenada angular polar se llama, en mecánica celeste, anomalía verdadera. Puede hallarse cononciendo el valor de $E$:\n",
        "\n",
        "\n",
        "> $$\\tan{\\frac{\\theta}{2}} =\\sqrt{\\frac{1+e}{1-e}}\\tan{\\left(\\frac{E}{2}\\right)}$$\n",
        "\n",
        "\n",
        "\n"
      ],
      "metadata": {
        "id": "57xOZNW9mBbR"
      }
    },
    {
      "cell_type": "code",
      "source": [
        "# ANOMALÍA VERDADERA (EN GRADOS) CONOCIENDO EL VALOR DE LA ANOMALÍA EXCÉNTRICA QUE ESTÁ EN GRADOS:\n",
        "\n",
        "anomalia_verdadera = (180 / math.pi) * 2 * math.atan(((math.sqrt((1+e)/(1-e)) * math.tan(math.radians(E/2)))))\n",
        "\n",
        "if anomalia_verdadera < 0:\n",
        "    anomalia_verdadera = 360 + anomalia_verdadera\n",
        "\n",
        "if anomalia_verdadera > 360:\n",
        "    anomalia_verdadera = anomalia_verdadera - 360 * math.floor(anomalia_verdadera/360)\n",
        "\n",
        "print('\\n---> Anomalía verdadera: theta = {}º'.format(anomalia_verdadera))"
      ],
      "metadata": {
        "colab": {
          "base_uri": "https://localhost:8080/"
        },
        "id": "fmew8yuhnjpJ",
        "outputId": "730de5ae-89fd-4685-d338-9488682d9f5c"
      },
      "execution_count": null,
      "outputs": [
        {
          "output_type": "stream",
          "name": "stdout",
          "text": [
            "\n",
            "---> Anomalía verdadera: theta = 338.3109911620546º\n"
          ]
        }
      ]
    },
    {
      "cell_type": "markdown",
      "source": [
        "O conociendo el valor de r:\n",
        "\n",
        "\n",
        "\n",
        "> $$\\theta = \\arccos{\\left[\\frac{1}{e}·\\left(\\frac{a·(1-e^{2})}{r}-1\\right)\\right]}$$\n",
        "\n"
      ],
      "metadata": {
        "id": "UbzrWskYp5aD"
      }
    },
    {
      "cell_type": "code",
      "source": [
        "# ANOMALÍA VERDADERA (EN GRADOS) CONOCIENDO EL VALOR DEL RADIO VECTOR QUE ESTÁ EN u.a:\n",
        "\n",
        "anomalia_verdadera = (180 / math.pi) * math.acos((1/e) * ((a * (1 - e**2) / r) - 1))\n",
        "\n",
        "if anomalia_verdadera < 0:\n",
        "    anomalia_verdadera = 360 + anomalia_verdadera\n",
        "\n",
        "if anomalia_verdadera > 360:\n",
        "    anomalia_verdadera = anomalia_verdadera - 360 * math.floor(anomalia_verdadera/360)\n",
        "\n",
        "r_punto = input('¿r punto es mayor que cero? (s/n):')\n",
        "\n",
        "if r_punto == \"s\":\n",
        "  print('\\n---> Anomalía verdadera: theta = {}º'.format(anomalia_verdadera))\n",
        "else:\n",
        "  anomalia_verdadera = 360 - anomalia_verdadera\n",
        "  print('\\n---> Anomalía verdadera: theta = {}º'.format(anomalia_verdadera))\n"
      ],
      "metadata": {
        "colab": {
          "base_uri": "https://localhost:8080/"
        },
        "id": "1vCAd_Z4raMM",
        "outputId": "855092fa-f9de-4ca7-86be-f068d4330182"
      },
      "execution_count": null,
      "outputs": [
        {
          "output_type": "stream",
          "name": "stdout",
          "text": [
            "¿r punto es mayor que cero? (s/n):s\n",
            "\n",
            "---> Anomalía verdadera: theta = 21.689008837945416º\n"
          ]
        }
      ]
    },
    {
      "cell_type": "markdown",
      "source": [
        "# ***RADIO VECTOR (r):***\n",
        "\n",
        "Ya conociendo el valor de la anomalía excéntrica ($E$), es posible encontrar la magnitud del radio vector:\n",
        "\n",
        "\n",
        "> $$r = a*(1-e\\cos{E})$$\n"
      ],
      "metadata": {
        "id": "NUDd_qcUW2De"
      }
    },
    {
      "cell_type": "code",
      "source": [
        "# CÁLCULO DEL RADIO VECTOR (r) EN u.a A PARTIR DE LA ANOMALÍA EXCÉNTRICA (E) QUE ESTÁ EN GRADOS\n",
        "\n",
        "r = a * (1 - e * math.cos(math.radians(E)))\n",
        "\n",
        "print('---> Radio vector r = {} u.a (por anomalía excéntrica)'.format(r))"
      ],
      "metadata": {
        "colab": {
          "base_uri": "https://localhost:8080/"
        },
        "id": "Yh7BeuYnX7WI",
        "outputId": "c7735eb8-4107-4d7f-8a4d-8ddf52185a5d"
      },
      "execution_count": null,
      "outputs": [
        {
          "output_type": "stream",
          "name": "stdout",
          "text": [
            "---> Radio vector r = 2.026342477346366 u.a (por anomalía excéntrica)\n"
          ]
        }
      ]
    },
    {
      "cell_type": "markdown",
      "source": [
        "O conociedo el valor de la anomalía verdadera ($\\theta$):\n",
        "\n",
        "\n",
        "> $$ r=\\frac{a*(1-e^2)}{1+e\\cos{\\theta}}$$\n",
        "\n"
      ],
      "metadata": {
        "id": "YHr99wyXYZLK"
      }
    },
    {
      "cell_type": "code",
      "source": [
        "# CÁLCULO DEL RADIO VECTOR (r) EN u.a A PARTIR DE LA ANOMALÍA VERDADERA (THETA) QUE ESTÁ EN GRADOS\n",
        "\n",
        "r = (a*(1-e**2))/(1+e*math.cos(math.radians(anomalia_verdadera)))\n",
        "\n",
        "print('---> Radio vector r = {} u.a (por anomalía verdadera)'.format(r))"
      ],
      "metadata": {
        "colab": {
          "base_uri": "https://localhost:8080/"
        },
        "id": "fDzMApTCbR2M",
        "outputId": "fbf8a140-1f28-4d24-e479-35acda344c0f"
      },
      "execution_count": null,
      "outputs": [
        {
          "output_type": "stream",
          "name": "stdout",
          "text": [
            "---> Radio vector r = 2.026342477346366 u.a (por anomalía verdadera)\n"
          ]
        }
      ]
    },
    {
      "cell_type": "code",
      "source": [
        "# CONVERSIÓN DE FECHA JULIANA A FECHA GREGORIANA\n",
        "\n",
        "\n",
        "def fecha_juliana_to_normal(jd):\n",
        "    \"\"\"\n",
        "    Convierte una fecha juliana en una fecha normal (año, mes, día, hora, minuto, segundo).\n",
        "    \"\"\"\n",
        "    # Se convierte a formato de fecha y hora de Python\n",
        "    t = (jd - 2440587.5) * 86400.0\n",
        "    dt = datetime.datetime.utcfromtimestamp(t)\n",
        "\n",
        "    # Se extraen las partes correspondientes a fecha y hora\n",
        "    year = dt.year\n",
        "    month = dt.month\n",
        "    day = dt.day\n",
        "    hour = dt.hour\n",
        "    minute = dt.minute\n",
        "    second = dt.second\n",
        "\n",
        "    # Se devuelve la fecha y hora normal\n",
        "    return year, month, day, hour, minute, second\n",
        "\n",
        "\n",
        "fecha_juliana = t_0\n",
        "fecha_normal = fecha_juliana_to_normal(fecha_juliana)\n",
        "print(fecha_normal)"
      ],
      "metadata": {
        "colab": {
          "base_uri": "https://localhost:8080/"
        },
        "id": "mNmtucpgZ7IF",
        "outputId": "b6949d9f-9330-4ce4-815e-558043d7a68a"
      },
      "execution_count": null,
      "outputs": [
        {
          "output_type": "stream",
          "name": "stdout",
          "text": [
            "(2003, 10, 23, 5, 57, 11)\n"
          ]
        }
      ]
    }
  ]
}