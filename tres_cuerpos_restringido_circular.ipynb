{
  "nbformat": 4,
  "nbformat_minor": 0,
  "metadata": {
    "colab": {
      "provenance": [],
      "authorship_tag": "ABX9TyP1PUkw02VbEuJIACI/VOHa",
      "include_colab_link": true
    },
    "kernelspec": {
      "name": "python3",
      "display_name": "Python 3"
    },
    "language_info": {
      "name": "python"
    }
  },
  "cells": [
    {
      "cell_type": "markdown",
      "metadata": {
        "id": "view-in-github",
        "colab_type": "text"
      },
      "source": [
        "<a href=\"https://colab.research.google.com/github/vi0908/MC/blob/main/tres_cuerpos_restringido_circular.ipynb\" target=\"_parent\"><img src=\"https://colab.research.google.com/assets/colab-badge.svg\" alt=\"Open In Colab\"/></a>"
      ]
    },
    {
      "cell_type": "code",
      "source": [
        "import math\n",
        "import numpy as np\n",
        "import matplotlib.pyplot as plt"
      ],
      "metadata": {
        "id": "UBGQnM3TJVjT"
      },
      "execution_count": null,
      "outputs": []
    },
    {
      "cell_type": "markdown",
      "source": [
        "# **Unidades unitarias**\n",
        "\n",
        "Las ecuaciones y el cálculo involucrado en el problema de los tres cuerpos restringido y circular pueden simplificarse y facilitarse notablemente por intermedio de la utilización de las siguientes convenciones y cambio de unidades:\n",
        "\n",
        "\n",
        "\n",
        "1.   La suma de las dos masas principales es igual a la unidad, esto es, $m_1+m_2 = 1$. Con esto se puede escribir la masa de $m_1$ en términos de $m_2$ así: $m_1 = 1 - m_2$.\n",
        "\n",
        "2.   La distancia existente entre los dos cuerpos principales es igual a la unidad. Así, se tiene: $a = 1 = x_2 - x_1$. Por lo tanto: $-x_1 = m_2$ y  $ x_2 = m_1 = 1 - m_2$\n",
        "\n",
        "3. Se adopta, según el sistema involucrado en particular, una unidad de tiempo\n",
        "conveniente de modo tal que se pueda hacer $G = n_2 = 1$ (lo cual es siempre\n",
        "posible hacerse). Nótese, entonces que el periodo de $m_2$ con respecto a $m_1$ es igual a $2\\pi$.\n",
        "\n"
      ],
      "metadata": {
        "id": "bnnFxkceD_5D"
      }
    },
    {
      "cell_type": "code",
      "execution_count": null,
      "metadata": {
        "colab": {
          "base_uri": "https://localhost:8080/"
        },
        "id": "Je5UwmP3D7EQ",
        "outputId": "ecd05bf3-f234-4764-ea5c-66cd4f132825"
      },
      "outputs": [
        {
          "output_type": "stream",
          "name": "stdout",
          "text": [
            "Tiene el valor de a en metros (s/n): s\n",
            "ingrese a (en metros): 19591.4e3\n",
            "\n",
            "\n",
            "---> a = 19591400.0 m \n",
            "\n",
            "\n",
            "Tiene el valor de las masas (en kg): s\n",
            "ingrese m1: 1.303e22\n",
            "ingrese m2: 1.586e21\n",
            "\n",
            "\n",
            "Tiene la proporción entre las masas (s/n): n\n",
            "\n",
            "\n",
            "---> m1 = 0.8914887794198139\n",
            "\n",
            "---> m2 = 0.10851122058018609 \n",
            "\n",
            "\n",
            "Tiene el valor del periodo orbital (s/n): n\n",
            "m2 se encuentra orbitando al Sol (s/n): n\n",
            "\n",
            "\n",
            "---> periodo: T = 6.38685636543552 días \n",
            "\n",
            "---> unidad de tiempo (para que G = 1): t = 1.0164997613769997 días\n",
            "\n",
            "\n",
            "---> x1 = -0.10851122058018609 \n",
            "\n",
            "---> x2 = 0.8914887794198139\n"
          ]
        }
      ],
      "source": [
        "# UNIDADES UNITARIAS SIN SUPONER VALOR DE M2 PARA ÓRBITA CIRCULAR\n",
        "\n",
        "tiene_a = input('Tiene el valor de a en metros (s/n): ')\n",
        "\n",
        "if tiene_a == 's':\n",
        "  a = float(input('ingrese a (en metros): '))\n",
        "\n",
        "else:\n",
        "  a = float(input('ingrese a (en u.a): '))\n",
        "  a = a * 149597870.7e3 # en u.a\n",
        "\n",
        "print('\\n\\n---> a = {} m \\n\\n'.format(a))\n",
        "\n",
        "tiene_masas = input('Tiene el valor de las masas (en kg): ')\n",
        "\n",
        "if tiene_masas == 's':\n",
        "  m1_real = float(input('ingrese m1: ')) # en kg\n",
        "  m2_real = float(input('ingrese m2: ')) # en kg\n",
        "\n",
        "else:\n",
        "  pass\n",
        "\n",
        "tiene_proporcion = input('\\n\\nTiene la proporción entre las masas (s/n): ')\n",
        "\n",
        "if tiene_proporcion == 's':\n",
        "  proporcion = float(input('Ingrese m_1 / m_2: '))\n",
        "  proporcion = 1 / proporcion\n",
        "  m2 = 1 / ((1 / proporcion) + 1)\n",
        "  m1 = 1 - m2\n",
        "\n",
        "else:\n",
        "  proporcion_masas = m2_real / m1_real\n",
        "  m2 = 1 / ((1 / proporcion_masas) + 1)\n",
        "  m1 = 1 - m2\n",
        "\n",
        "print('\\n\\n---> m1 = {}\\n\\n---> m2 = {} \\n\\n'.format(m1,m2))\n",
        "\n",
        "tiene_periodo = input('Tiene el valor del periodo orbital (s/n): ')\n",
        "\n",
        "if tiene_periodo == 's':\n",
        "\n",
        "  T = float(input('ingrese el valor del periodo orbital (en días): '))\n",
        "\n",
        "else:\n",
        "  orbita_sol = input(\"m2 se encuentra orbitando al Sol (s/n): \")\n",
        "\n",
        "  if orbita_sol == 's':\n",
        "    T = (2 * math.pi * pow ((a / 149597870.7e3), (3/2)))/ (0.01720209908 * math.sqrt(1 + (m2 / m1)))\n",
        "\n",
        "  else:\n",
        "    T = ((2 * math.pi * pow(a, (3/2))) / (math.sqrt(6.67e-11*(m1_real + m2_real)))) / 86400\n",
        "\n",
        "t = T / (2 * math.pi)\n",
        "\n",
        "print('\\n\\n---> periodo: T = {} días \\n\\n---> unidad de tiempo (para que G = 1): t = {} días'.format(T, t))\n",
        "\n",
        "x1 = -m2\n",
        "x2 = m1\n",
        "\n",
        "print('\\n\\n---> x1 = {} \\n\\n---> x2 = {}'.format(x1,x2))\n"
      ]
    },
    {
      "cell_type": "code",
      "source": [
        "# UNIDADES UNITARIAS SUPONIENDO EL VALOR DE M2\n",
        "\n",
        "m2 =  # en unidades unitarias\n",
        "m1 = 1 - m2\n",
        "x1 = -m2 # posición respecto al CM\n",
        "x2 = m1\n",
        "\n",
        "print('---> m1 = {} \\n---> m2 = {} \\n---> x1 = {} \\n---> x2 = {}'.format(m1, m2, x1, x2))"
      ],
      "metadata": {
        "colab": {
          "base_uri": "https://localhost:8080/"
        },
        "id": "2P2_GRrIT827",
        "outputId": "6decdacd-57d0-469c-9b03-278e1e15fea6"
      },
      "execution_count": null,
      "outputs": [
        {
          "output_type": "stream",
          "name": "stdout",
          "text": [
            "---> m1 = 0.999 \n",
            "---> m2 = 0.001 \n",
            "---> x1 = -0.001 \n",
            "---> x2 = 0.999\n"
          ]
        }
      ]
    },
    {
      "cell_type": "markdown",
      "source": [
        "# **Constante de Jacboi**\n",
        "\n",
        "El valor de la constante de Jacobi se puede conseguir a partir de unas condiciones iniciales dadas. Supóngase que para la masa $m_3$ se conocen, en un instante dado $t_0$, los correspondientes vectores posición $x_0$, $y_0$, $z_0$ y velocidad $\\dot{x_0}$, $\\dot{y_0}$, $\\dot{z_0}$ con relación a\n",
        "los ejes en rotación. Por lo tanto:\n",
        "\n",
        "\n",
        "\n",
        "> $$C = \\frac{1}{2}(\\dot{x_0}^2+ \\dot{y_0}^2 + \\dot{z_0}^2) - \\frac{n^2}{2}(x_0^2+y_0^2)- \\frac{Gm_1}{(\\rho_1)_0} -\\frac{Gm_2}{(\\rho_2)_0}$$\n",
        "\n",
        "donde:\n",
        "\n",
        "\n",
        "\n",
        "> $$(\\rho_1)_0^2 = (x_0-(x_1)_0)^2+y_0^2+z_0^2$$\n",
        "\n",
        "\n",
        "> $$(\\rho_2)_0^2 = (x_0-(x_2)_0)^2+y_0^2+z_0^2$$\n",
        "\n",
        "Los valores de $n$ y de $(x_1)_0$ y $(x_2)_0$ quedan inmediatamente definidos una vez que se fijen los valores de las masas involucradas $m_1$ y $m_2$ y la distancia entre ellas $a$.\n",
        "\n",
        "\\\\\n",
        "Aunque no podamos encontrar de forma analítica $x$, $y$, $z$ y $\\dot{x}$, $\\dot{y}$, $\\dot{z}$, para cualquier tiempo en el pasado o en el futuro, lo que sí podemos afirmar es que la partícula adoptará combinaciones de valores de esas seis cantidades que satisfagan siempre la ecuación:\n",
        "\n",
        "$$C = \\frac{1}{2}(\\dot{x}^2+ \\dot{y}^2 + \\dot{z}^2) - \\frac{n^2}{2}(x^2+y^2)- \\frac{Gm_1}{\\sqrt{(x-x_1)^2 + y^2 + z^2}} -\\frac{Gm_2}{\\sqrt{(x-x_2)^2 + y^2 + z^2}}$$\n",
        "\n",
        "La constante de Jacobi, dada por la ecuación anterior, en términos\n",
        "de dimensiones unitarias, queda como:\n",
        "\n",
        "> $$C = \\frac{1}{2}(\\dot{x_0}^2+ \\dot{y_0}^2 + \\dot{z_0}^2) - \\frac{1}{2}(x_0^2+y_0^2)- \\frac{1-m_2}{\\sqrt{(x_0+m_2)^2 + y_0^2 + z_0^2}} -\\frac{m_2}{\\sqrt{(x_0-1+m_2)^2 + y_0^2 + z_0^2}}$$\n",
        "\n",
        "\\\\\n",
        "Para lo que sigue, haremos una suposición adicional. Esta consiste en restringir el movimiento de $m_3$ al plano que contiene $m_1$ y $m_2$. Ello significa que, a partir de ahora, sea hará $z = 0$ y $\\dot{z} = 0$, lo que equivale a introducir con la mano dos constantes de movimiento ($z = cte$, $ż = cte$). Si bien no es posible obtener analíticamente la solución del problema, aun con estas restricciones, (porque en tal caso haría falta encontrar tres constantes de movimiento, lo cual, como se ha dicho,\n",
        "se ha demostrado que no es posible), la constante de Jacobi permite, eligiendo unas condiciones iniciales dadas, determinar cuáles sectores del plano $xy$ puede recorrer la masa $m_3$ y cuáles no."
      ],
      "metadata": {
        "id": "I5Hh3kEBVli0"
      }
    },
    {
      "cell_type": "code",
      "source": [
        "# CONDICIONES INICIALES\n",
        "\n",
        "xi =  # en METROS\n",
        "yi =\n",
        "zi =\n",
        "\n",
        "xpi =  # en METROS / SEGUNDO\n",
        "ypi =\n",
        "zpi =\n",
        "\n",
        "# CONDICIONES INICIALES EN UNIDADES UNITARIAS\n",
        "\n",
        "x0 = xi / a\n",
        "y0 = yi / a\n",
        "z0 = zi / a\n",
        "\n",
        "xp0 = (xpi / a) * 86400 * t\n",
        "yp0 = (ypi / a) * 86400 * t\n",
        "zp0 = (zpi / a) * 86400 * t\n",
        "\n",
        "print('CONDICIONES INICIALES EN UNIDADES UNITARIAS: \\n\\n---> x0 = {} \\n\\n---> y0 = {} \\n\\n---> z0 = {} \\n\\n---> xp0 = {} \\n\\n---> yp0 = {} \\n\\n---> zp0 = {}'.format(x0, y0, z0, xp0, yp0, zp0))\n",
        "\n",
        "\n"
      ],
      "metadata": {
        "id": "oUX7Ua9xaylK",
        "colab": {
          "base_uri": "https://localhost:8080/"
        },
        "outputId": "f8b34b5a-f6ab-4ad5-bcb5-6da76dddc873"
      },
      "execution_count": null,
      "outputs": [
        {
          "output_type": "stream",
          "name": "stdout",
          "text": [
            "CONDICIONES INICIALES EN UNIDADES UNITARIAS: \n",
            "\n",
            "---> x0 = -0.028 \n",
            "\n",
            "---> y0 = 0.002 \n",
            "\n",
            "---> z0 = 0.0 \n",
            "\n",
            "---> xp0 = 3.82460754017968 \n",
            "\n",
            "---> yp0 = -10.35744910622937 \n",
            "\n",
            "---> zp0 = 0.0\n"
          ]
        }
      ]
    },
    {
      "cell_type": "code",
      "source": [
        "# CONSTANTE DE JACOBI EN UNIDADES UNITARIAS\n",
        "\n",
        "C = 0.5 * (xp0**2 + yp0**2 + zp0**2) - 0.5 * (x0**2 + y0**2) - ((1 - m2) / (math.sqrt((x0 + m2)**2 + y0**2 + z0**2))) - ((m2) / (math.sqrt((x0 - 1 + m2)**2 + y0**2 + z0**2)))\n",
        "\n",
        "print('Constante de Jacobi en UNIDADES UNITARIAS: C = {}'.format(C))"
      ],
      "metadata": {
        "colab": {
          "base_uri": "https://localhost:8080/"
        },
        "id": "-jR6xK9B7lxj",
        "outputId": "98be116d-8069-4c11-afe1-390a20522240"
      },
      "execution_count": null,
      "outputs": [
        {
          "output_type": "stream",
          "name": "stdout",
          "text": [
            "Constante de Jacobi en UNIDADES UNITARIAS: C = -0.9085307868842798\n"
          ]
        }
      ]
    },
    {
      "cell_type": "markdown",
      "source": [
        "# **Regiones de velocidad cero**\n",
        "\n",
        "La constante de Jacobi permite, eligiendo unas\n",
        "condiciones iniciales dadas, determinar cuáles sectores del plano $xy$ puede recorrer la masa $m_3$ y cuáles no. En efecto, supóngase que se tienen unas condiciones iniciales en las coordenadas $x_0$ y $y_0$ (con lo que $U$ queda determinado) y de las velocidades $\\dot{x_0}$ y $\\dot{y_{0}}$ (con lo que $v$ queda determinado). Dichas condiciones iniciales harán que la partícula adopte una trayectoria dada, con valores específicos de las coordenadas y de las velocidades. Ahora supongamos que, para esos mismos valores de las coordenadas ($x_0$, $y_0$), se escogen como componentes de las velocidades a $\\dot{x_c}$ = $\\dot{y_c}$ = 0, esto es, como si a la partícula se le asignara una velocidad nula (recuérdese que es con respecto a las coordenadas en rotación). Si ese fuese el caso, la constante de Jacobi, en dimensiones unitarias, adopta el valor siguiente:\n",
        "\n",
        "\n",
        "\n",
        "> $$C_c = - \\frac{1}{2}(x_c^2+y_c^2)- \\frac{1-m_2}{\\sqrt{(x_c+m_2)^2 + y_c^2}} -\\frac{m_2}{\\sqrt{(x_c-1+m_2)^2 + y_c^2}}$$\n",
        "\n",
        "donde se ha colocado el subíndice $c$ que indica condición de velocidad cero. Nótese entonces que, en las condiciones de velocidad nula, la constante de Jacobi depende solo de las coordenadas iniciales. Por lo tanto, al quedar determinado el valor de la constante $C_c$ con tal condición, existirá todo un conjunto de valores $x$ e $y$ en el plano que ha de satisfacer siempre:\n",
        "\n",
        "> $$C_c = - \\frac{1}{2}(x^2+y^2)- \\frac{1-m_2}{\\sqrt{(x+m_2)^2 + y^2}} -\\frac{m_2}{\\sqrt{(x-1+m_2)^2 + y^2}}$$\n",
        "\n",
        "En el plano cartesiano, una gráfica de la función dependerá del valor\n",
        "de $C_c$, lo que a su vez depende de los valores asignados de $x_c$ y $y_c$ (y de $m_2$, por supuesto). Este tipo de curvas se denominan regiones de velocidad cero o regiones de Hill, en honor al astrónomo norteamericano George William Hill, quien estudió la estabilidad de la órbita lunar a través de este procedimiento. Es evidente que, si al lado derecho de esta ecuación los dos últimos términos son despreciables con relación al primero, se tendrá la gráfica de una circunferencia con origen en el centro de masas. También puede ocurrir que uno de los dos términos del extremo de la derecha sea el que predomine con relación a los otros.\n"
      ],
      "metadata": {
        "id": "_Vovc7Fdb4CM"
      }
    },
    {
      "cell_type": "code",
      "source": [
        "# Definir la función\n",
        "\n",
        "def Cc(x, y):\n",
        "    return -0.5*(x**2 + y**2) - (1 - m2)/np.sqrt((x+m2)**2 + y**2) - m2/np.sqrt((x-1+m2)**2 + y**2)\n",
        "\n",
        "# Crear datos para los ejes x e y\n",
        "x = np.linspace(-2.5, 2.5, 100)\n",
        "y = np.linspace(-2.5, 2.5, 100)\n",
        "X, Y = np.meshgrid(x, y)\n",
        "\n",
        "Z = Cc(X, Y)\n",
        "\n",
        "# Nivel para graficar\n",
        "niveles = [-2, -1.75, -1.59]\n",
        "\n",
        "# Crear el gráfico de líneas en el nivel especificado\n",
        "plt.contour(X, Y, Z, levels = niveles, colors ='black', linestyles='solid')\n",
        "\n",
        "plt.scatter(x1, 0, color='red', marker='o')\n",
        "\n",
        "plt.scatter(x2, 0, color='red', marker='o')\n",
        "\n",
        "# Configurar etiquetas y título\n",
        "plt.xlabel('x')\n",
        "plt.ylabel('y')\n",
        "plt.title('REGIONES DE VELOCIDAD CERO, DISTINTOS VALORES DE Cc')\n",
        "\n",
        "# Mostrar el gráfico\n",
        "plt.show()\n"
      ],
      "metadata": {
        "id": "tcVdGdxPhA9E",
        "colab": {
          "base_uri": "https://localhost:8080/",
          "height": 472
        },
        "outputId": "bd781f54-4cd3-4211-cdbf-c2f212d6706f"
      },
      "execution_count": null,
      "outputs": [
        {
          "output_type": "display_data",
          "data": {
            "text/plain": [
              "<Figure size 640x480 with 1 Axes>"
            ],
            "image/png": "[encoded data removed]"
          },
          "metadata": {}
        }
      ]
    },
    {
      "cell_type": "markdown",
      "source": [
        "Volvamos otra vez a la trayectoria que describe el cuerpo de masa $m_3$ con las condiciones iniciales $x_0$, $y_0$, $\\dot{x_0}$, $\\dot{y_0}$. La masa $m_3$ ha de desplazarse a través de regiones del plano $xy$, lo que hará que la función $U$ cambie con el tiempo; así mismo, los valores de velocidad $v$ también cambiarán en el tiempo; es claro que, tanto el valor de $U$ como el valor de $v$ han de ser tales que deben satisfacer siempre la constante de\n",
        "Jacobi.\n",
        "\n",
        "Pero, la existencia de la ecuación $C_c$ necesariamente coloca una cota a dicho desplazamiento dado que, para efectos de que las trayectorias\n",
        "correspondan a la descripción de una situación física, se deberá tener necesariamente que $v^2 > 0$ en todos los puntos de la trayectoria pues, en caso contrario, se tendrá una velocidad imaginaria. Como se ha de cumplir siempre la ecuación $\\frac{v^2}{2} - U = C$, los\n",
        "valores de $x$ y $y$ que han de tomar la masa $m_3$ en su desplazamiento deben ser tales que:\n",
        "\n",
        "\n",
        "\n",
        "> $$\\frac{v^2}{2} = C_c + U \\rightarrow C_c + U > 0 \\rightarrow U > -C_c$$\n",
        "\n"
      ],
      "metadata": {
        "id": "khgB3E9lhLhF"
      }
    },
    {
      "cell_type": "markdown",
      "source": [
        "Al elegir unos valores de condiciones iniciales dadas (y así fijar C), aunque no sea nada fácil en principio hallar la trayectoria subsecuente en el tiempo (lo que se logra integrando numéricamente las ecuaciones), sí es posible determinar en qué zonas del plano $xy$ la partícula $m_3$ estará\n",
        "condenada siempre a desplazarse."
      ],
      "metadata": {
        "id": "bPltVisWl6Dr"
      }
    }
  ]
}